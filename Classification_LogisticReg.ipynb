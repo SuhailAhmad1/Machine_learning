{
  "nbformat": 4,
  "nbformat_minor": 0,
  "metadata": {
    "colab": {
      "name": "Classification_LogisticReg.ipynb",
      "provenance": [],
      "collapsed_sections": [],
      "authorship_tag": "ABX9TyPXQAAPoN6YMM7qKMbDlNBq",
      "include_colab_link": true
    },
    "kernelspec": {
      "name": "python3",
      "display_name": "Python 3"
    },
    "language_info": {
      "name": "python"
    }
  },
  "cells": [
    {
      "cell_type": "markdown",
      "metadata": {
        "id": "view-in-github",
        "colab_type": "text"
      },
      "source": [
        "<a href=\"https://colab.research.google.com/github/SuhailAhmad1/Machine_learning/blob/main/Classification_LogisticReg.ipynb\" target=\"_parent\"><img src=\"https://colab.research.google.com/assets/colab-badge.svg\" alt=\"Open In Colab\"/></a>"
      ]
    },
    {
      "cell_type": "markdown",
      "source": [
        "# **Importing Important Libraries**"
      ],
      "metadata": {
        "id": "94a2V-vcibw_"
      }
    },
    {
      "cell_type": "code",
      "execution_count": 46,
      "metadata": {
        "id": "45VMa-R7h5Iz"
      },
      "outputs": [],
      "source": [
        "import numpy as np\n",
        "import pandas as pd\n",
        "import matplotlib.pyplot as plt\n",
        "from sklearn.datasets import fetch_openml\n",
        "from sklearn.linear_model import LogisticRegression, LogisticRegressionCV\n",
        "from sklearn.preprocessing import MinMaxScaler\n",
        "from sklearn.pipeline import make_pipeline, Pipeline\n",
        "from sklearn.model_selection import GridSearchCV, cross_validate\n",
        "from sklearn.metrics import precision_score, recall_score, ConfusionMatrixDisplay, classification_report"
      ]
    },
    {
      "cell_type": "markdown",
      "source": [
        "# Importing DataSet"
      ],
      "metadata": {
        "id": "TPfYnf7qi8kh"
      }
    },
    {
      "cell_type": "code",
      "source": [
        "X_pd, y_pd = fetch_openml('mnist_784', version=1, return_X_y=True)\n",
        "X = X_pd.to_numpy()\n",
        "y = y_pd.to_numpy()"
      ],
      "metadata": {
        "id": "mueRLfHviES0"
      },
      "execution_count": 3,
      "outputs": []
    },
    {
      "cell_type": "markdown",
      "source": [
        "**splitting data into train and test set**"
      ],
      "metadata": {
        "id": "GpUK-OG0j1VS"
      }
    },
    {
      "cell_type": "code",
      "source": [
        "X_train, X_test, y_train, y_test = X[:60000], X[60000:], y[:60000], y[60000:]"
      ],
      "metadata": {
        "id": "viVX8OPrj6ot"
      },
      "execution_count": 4,
      "outputs": []
    },
    {
      "cell_type": "markdown",
      "source": [
        "# **Logistic Regression | Binary 0 detector**"
      ],
      "metadata": {
        "id": "q2t7llhdjBjz"
      }
    },
    {
      "cell_type": "markdown",
      "source": [
        "**Conveting Label into two class. 1 for 0's and 0 for all others**"
      ],
      "metadata": {
        "id": "zo-_oWLnjqZc"
      }
    },
    {
      "cell_type": "code",
      "source": [
        "y_train_0 = np.zeros(len(y_train))\n",
        "y_test_0 = np.zeros(len(y_test))\n",
        "\n",
        "index_0 = np.where(y_train == '0')\n",
        "y_train_0[index_0] = 1\n",
        "\n",
        "index_0 = np.where(y_test == '0')\n",
        "y_test_0[index_0] = 1"
      ],
      "metadata": {
        "id": "Y355RAWKi_Rq"
      },
      "execution_count": 5,
      "outputs": []
    },
    {
      "cell_type": "code",
      "source": [
        "print(y_train)\n",
        "print(y_train_0)"
      ],
      "metadata": {
        "colab": {
          "base_uri": "https://localhost:8080/"
        },
        "id": "CM6WUU5iklnD",
        "outputId": "73f6d478-b3f1-4439-eaa5-0a98aa902525"
      },
      "execution_count": 6,
      "outputs": [
        {
          "output_type": "stream",
          "name": "stdout",
          "text": [
            "['5' '0' '4' ... '5' '6' '8']\n",
            "[0. 1. 0. ... 0. 0. 0.]\n"
          ]
        }
      ]
    },
    {
      "cell_type": "code",
      "source": [
        "print(y_test[10:20])\n",
        "print(y_test_0[10:20])"
      ],
      "metadata": {
        "colab": {
          "base_uri": "https://localhost:8080/"
        },
        "id": "YufsoMU3ksDG",
        "outputId": "b50ca484-5009-4d5c-9649-7cbc90087a42"
      },
      "execution_count": 7,
      "outputs": [
        {
          "output_type": "stream",
          "name": "stdout",
          "text": [
            "['0' '6' '9' '0' '1' '5' '9' '7' '3' '4']\n",
            "[1. 0. 0. 1. 0. 0. 0. 0. 0. 0.]\n"
          ]
        }
      ]
    },
    {
      "cell_type": "markdown",
      "source": [
        "**LogisticRegression without regularization**"
      ],
      "metadata": {
        "id": "3HxZXC5A1M_S"
      }
    },
    {
      "cell_type": "code",
      "source": [
        "pipe_0 = make_pipeline(MinMaxScaler(), LogisticRegression(random_state=1729,\n",
        "                             solver=\"lbfgs\",\n",
        "                             C=np.infty))\n",
        "pipe_0.fit(X_train, y_train_0)"
      ],
      "metadata": {
        "id": "2L_bYpM61SW0"
      },
      "execution_count": null,
      "outputs": []
    },
    {
      "cell_type": "markdown",
      "source": [
        "**Training Model and Using GridSearchCV for hyperparameter seaching**"
      ],
      "metadata": {
        "id": "GwiZkrXOk2Ky"
      }
    },
    {
      "cell_type": "code",
      "source": [
        "grid_Cs = [0, 1e-4, 1e-3, 1e-2, 1e-1, 1.0, 10.0, 100.0]\n",
        "\n",
        "pipe = Pipeline([('scalar', MinMaxScaler()),\n",
        "                     (\"logistic\", LogisticRegression(C=1.0, random_state=1729))])\n",
        "\n",
        "pipe_logit_cv = GridSearchCV(\n",
        "    pipe,\n",
        "    param_grid={'logistic__C': grid_Cs},\n",
        "    scoring=\"f1\",\n",
        "    )\n",
        "\n",
        "pipe_logit_cv.fit(X_train, y_train_0)"
      ],
      "metadata": {
        "id": "b9L1H3Bjk7sm"
      },
      "execution_count": null,
      "outputs": []
    },
    {
      "cell_type": "code",
      "source": [
        "pipe_logit_cv.best_params_"
      ],
      "metadata": {
        "colab": {
          "base_uri": "https://localhost:8080/"
        },
        "id": "9GWQANdbmF-l",
        "outputId": "64c008e8-2801-4e1a-c631-7b11b698da11"
      },
      "execution_count": 13,
      "outputs": [
        {
          "output_type": "execute_result",
          "data": {
            "text/plain": [
              "{'logistic__C': 0.1}"
            ]
          },
          "metadata": {},
          "execution_count": 13
        }
      ]
    },
    {
      "cell_type": "code",
      "source": [
        "pipe_logit_cv.best_score_"
      ],
      "metadata": {
        "colab": {
          "base_uri": "https://localhost:8080/"
        },
        "id": "R4uwy2Wjp7bQ",
        "outputId": "a8b1116e-d7c5-495b-c85c-2b7f02cefe1c"
      },
      "execution_count": 14,
      "outputs": [
        {
          "output_type": "execute_result",
          "data": {
            "text/plain": [
              "0.9579654953103655"
            ]
          },
          "metadata": {},
          "execution_count": 14
        }
      ]
    },
    {
      "cell_type": "code",
      "source": [
        "pipe_logit_cv.best_estimator_"
      ],
      "metadata": {
        "colab": {
          "base_uri": "https://localhost:8080/"
        },
        "id": "OK4m50U1qD06",
        "outputId": "82c29d46-4068-4b1a-aa51-4a6fe52ede32"
      },
      "execution_count": 15,
      "outputs": [
        {
          "output_type": "execute_result",
          "data": {
            "text/plain": [
              "Pipeline(steps=[('scalar', MinMaxScaler()),\n",
              "                ('logistic', LogisticRegression(C=0.1, random_state=1729))])"
            ]
          },
          "metadata": {},
          "execution_count": 15
        }
      ]
    },
    {
      "cell_type": "markdown",
      "source": [
        "**Using LogisticRegressionCv for getting the best parameters for our model**"
      ],
      "metadata": {
        "id": "LrLgSpD4xhL7"
      }
    },
    {
      "cell_type": "code",
      "source": [
        "estimator = LogisticRegressionCV(cv=5, scoring='f1',random_state=1729)\n",
        "logit_cv = make_pipeline(MinMaxScaler(), estimator)\n",
        "logit_cv.fit(X_train, y_train_0)"
      ],
      "metadata": {
        "id": "cUmfJ9BhxskA"
      },
      "execution_count": null,
      "outputs": []
    },
    {
      "cell_type": "markdown",
      "source": [
        "# Performence Evaluation of these three pipelines"
      ],
      "metadata": {
        "id": "x2pxd2lJ2K35"
      }
    },
    {
      "cell_type": "code",
      "source": [
        "y_0_test = pipe_0.predict(X_test)\n",
        "y_1_test = pipe_logit_cv.best_estimator_.predict(X_test)\n",
        "y_2_test = logit_cv.predict(X_test)"
      ],
      "metadata": {
        "id": "rUp7yOSq2Juj"
      },
      "execution_count": 20,
      "outputs": []
    },
    {
      "cell_type": "code",
      "source": [
        "print(\"Model1(Without Regularization)--> Precison : \",precision_score(y_test_0, y_0_test), \" Recall : \", recall_score(y_test_0, y_0_test))\n",
        "print(\"Model2(With GridSearchCV)--> Precison : \",precision_score(y_test_0, y_1_test), \" Recall : \", recall_score(y_test_0, y_1_test))\n",
        "print(\"Model1(With LogisticRegressionCV)--> Precison : \",precision_score(y_test_0, y_2_test), \" Recall : \", recall_score(y_test_0, y_2_test))"
      ],
      "metadata": {
        "colab": {
          "base_uri": "https://localhost:8080/"
        },
        "id": "SCQS2LGA3QwT",
        "outputId": "b14c5b1b-0d50-4f66-945c-5c367e6bbac0"
      },
      "execution_count": 25,
      "outputs": [
        {
          "output_type": "stream",
          "name": "stdout",
          "text": [
            "Model1(Without Regularization)--> Precison :  0.9515151515151515  Recall :  0.9612244897959183\n",
            "Model2(With GridSearchCV)--> Precison :  0.9564336372847011  Recall :  0.963265306122449\n",
            "Model1(With LogisticRegressionCV)--> Precison :  0.9546370967741935  Recall :  0.9663265306122449\n"
          ]
        }
      ]
    },
    {
      "cell_type": "markdown",
      "source": [
        "# Confusion Matrix For These Three Models"
      ],
      "metadata": {
        "id": "Srpu3JlL4y_z"
      }
    },
    {
      "cell_type": "markdown",
      "source": [
        "1. For Model 1... Without Regularization"
      ],
      "metadata": {
        "id": "nIV9gOBR44dh"
      }
    },
    {
      "cell_type": "code",
      "source": [
        "cm1 = ConfusionMatrixDisplay.from_predictions(y_test_0, y_0_test, values_format='.5g')"
      ],
      "metadata": {
        "colab": {
          "base_uri": "https://localhost:8080/",
          "height": 279
        },
        "id": "TIi3kTUj4_95",
        "outputId": "9131b099-c118-4a3f-eec9-36ea8d2bfbc4"
      },
      "execution_count": 28,
      "outputs": [
        {
          "output_type": "display_data",
          "data": {
            "text/plain": [
              "<Figure size 432x288 with 2 Axes>"
            ],
            "image/png": "[encoded data removed]"
          },
          "metadata": {
            "needs_background": "light"
          }
        }
      ]
    },
    {
      "cell_type": "markdown",
      "source": [
        "--------------------------------------------------------\n",
        "2.For Model 2.... With GridSearchCV"
      ],
      "metadata": {
        "id": "VPoPfNq06Bor"
      }
    },
    {
      "cell_type": "code",
      "source": [
        "cm2 = ConfusionMatrixDisplay.from_predictions(y_test_0, y_1_test, values_format='.5g')"
      ],
      "metadata": {
        "colab": {
          "base_uri": "https://localhost:8080/",
          "height": 279
        },
        "id": "NzXJ23X56P3b",
        "outputId": "d1240b01-2029-4806-9ec3-ebd44ee0862e"
      },
      "execution_count": 29,
      "outputs": [
        {
          "output_type": "display_data",
          "data": {
            "text/plain": [
              "<Figure size 432x288 with 2 Axes>"
            ],
            "image/png": "[encoded data removed]"
          },
          "metadata": {
            "needs_background": "light"
          }
        }
      ]
    },
    {
      "cell_type": "markdown",
      "source": [
        "----------------------------------------------\n",
        "3.For Model3................... With LogisticRegressionCV"
      ],
      "metadata": {
        "id": "5rfzfFrb65MQ"
      }
    },
    {
      "cell_type": "code",
      "source": [
        "cm3 = ConfusionMatrixDisplay.from_predictions(y_test_0, y_2_test, values_format='.5g')"
      ],
      "metadata": {
        "colab": {
          "base_uri": "https://localhost:8080/",
          "height": 279
        },
        "id": "1hqxJRD-6_gW",
        "outputId": "6e7cc04f-de5a-4327-c7dc-4789902bfcb1"
      },
      "execution_count": 30,
      "outputs": [
        {
          "output_type": "display_data",
          "data": {
            "text/plain": [
              "<Figure size 432x288 with 2 Axes>"
            ],
            "image/png": "[encoded data removed]"
          },
          "metadata": {
            "needs_background": "light"
          }
        }
      ]
    },
    {
      "cell_type": "markdown",
      "source": [
        "# **RidgeClassier**"
      ],
      "metadata": {
        "id": "mQRFgy0xAMMe"
      }
    },
    {
      "cell_type": "markdown",
      "source": [
        "**For Ridge Classifier Changing Labels into +1 and -1, +1 for 0s and -1 for all other classes**"
      ],
      "metadata": {
        "id": "qqGzt7D0AVy4"
      }
    },
    {
      "cell_type": "code",
      "source": [
        "y_train_00 = -1*np.ones(len(y_train))\n",
        "y_test_00 = -1*np.ones(len(y_test))\n",
        "\n",
        "index_0 = np.where(y_train == '0')\n",
        "y_train_00[index_0] = 1\n",
        "\n",
        "index_0 = np.where(y_test == '0')\n",
        "y_test_00[index_0] = 1"
      ],
      "metadata": {
        "id": "_8HmeqOOAlbE"
      },
      "execution_count": 31,
      "outputs": []
    },
    {
      "cell_type": "code",
      "source": [
        "print(y_train)\n",
        "print(y_train_00)"
      ],
      "metadata": {
        "colab": {
          "base_uri": "https://localhost:8080/"
        },
        "id": "ge2TnYSxBF77",
        "outputId": "ff865704-df0e-4f3e-f1e2-d8bca099d84f"
      },
      "execution_count": 34,
      "outputs": [
        {
          "output_type": "stream",
          "name": "stdout",
          "text": [
            "['5' '0' '4' ... '5' '6' '8']\n",
            "[-1.  1. -1. ... -1. -1. -1.]\n"
          ]
        }
      ]
    },
    {
      "cell_type": "code",
      "source": [
        "print(y_test[10:20])\n",
        "print(y_test_00[10:20])"
      ],
      "metadata": {
        "colab": {
          "base_uri": "https://localhost:8080/"
        },
        "id": "eafaTF9iBIIN",
        "outputId": "089e8a05-a1f5-4b54-9c61-525789201420"
      },
      "execution_count": 35,
      "outputs": [
        {
          "output_type": "stream",
          "name": "stdout",
          "text": [
            "['0' '6' '9' '0' '1' '5' '9' '7' '3' '4']\n",
            "[ 1. -1. -1.  1. -1. -1. -1. -1. -1. -1.]\n"
          ]
        }
      ]
    },
    {
      "cell_type": "markdown",
      "source": [
        "**RidgeClassifier**"
      ],
      "metadata": {
        "id": "jkEFp3zUBe07"
      }
    },
    {
      "cell_type": "code",
      "source": [
        "from sklearn.linear_model import RidgeClassifier"
      ],
      "metadata": {
        "id": "RF8wq16WBKmG"
      },
      "execution_count": 36,
      "outputs": []
    },
    {
      "cell_type": "code",
      "source": [
        "estimator = RidgeClassifier(normalize=False, alpha=0)\n",
        "pipe_ridge = make_pipeline(MinMaxScaler(), estimator)\n",
        "pipe_ridge.fit(X_train, y_train_00)"
      ],
      "metadata": {
        "colab": {
          "base_uri": "https://localhost:8080/"
        },
        "id": "gK6TiEP1Bvuz",
        "outputId": "94219e62-ab69-4a2d-a845-ab54ddda82a2"
      },
      "execution_count": 44,
      "outputs": [
        {
          "output_type": "stream",
          "name": "stderr",
          "text": [
            "/usr/local/lib/python3.7/dist-packages/sklearn/linear_model/_base.py:155: FutureWarning: 'normalize' was deprecated in version 1.0 and will be removed in 1.2. Please leave the normalize parameter to its default value to silence this warning. The default behavior of this estimator is to not do any normalization. If normalization is needed please use sklearn.preprocessing.StandardScaler instead.\n",
            "  FutureWarning,\n"
          ]
        },
        {
          "output_type": "execute_result",
          "data": {
            "text/plain": [
              "Pipeline(steps=[('minmaxscaler', MinMaxScaler()),\n",
              "                ('ridgeclassifier', RidgeClassifier(alpha=0, normalize=False))])"
            ]
          },
          "metadata": {},
          "execution_count": 44
        }
      ]
    },
    {
      "cell_type": "code",
      "source": [
        "y_hat_r = pipe_ridge.predict(X_test)\n",
        "print(classification_report(y_test_00, y_hat_r))"
      ],
      "metadata": {
        "colab": {
          "base_uri": "https://localhost:8080/"
        },
        "id": "1be4-qi_CQFk",
        "outputId": "d173295d-bbac-4961-c5ff-9157e20214c0"
      },
      "execution_count": 45,
      "outputs": [
        {
          "output_type": "stream",
          "name": "stdout",
          "text": [
            "              precision    recall  f1-score   support\n",
            "\n",
            "        -1.0       0.99      0.99      0.99      9020\n",
            "         1.0       0.95      0.88      0.91       980\n",
            "\n",
            "    accuracy                           0.98     10000\n",
            "   macro avg       0.97      0.94      0.95     10000\n",
            "weighted avg       0.98      0.98      0.98     10000\n",
            "\n"
          ]
        }
      ]
    },
    {
      "cell_type": "code",
      "source": [
        "cm = ConfusionMatrixDisplay.from_predictions(y_test_00, y_hat_r)"
      ],
      "metadata": {
        "colab": {
          "base_uri": "https://localhost:8080/",
          "height": 279
        },
        "id": "NmS4nuCmGw-G",
        "outputId": "ffeeb865-f13f-48ae-9b84-24153eee9afa"
      },
      "execution_count": 54,
      "outputs": [
        {
          "output_type": "display_data",
          "data": {
            "text/plain": [
              "<Figure size 432x288 with 2 Axes>"
            ],
            "image/png": "[encoded data removed]"
          },
          "metadata": {
            "needs_background": "light"
          }
        }
      ]
    },
    {
      "cell_type": "markdown",
      "source": [
        "Cross Validate"
      ],
      "metadata": {
        "id": "g4joSc3gEMWp"
      }
    },
    {
      "cell_type": "code",
      "source": [
        "from pprint import pprint\n",
        "cv_bin_ridge = cross_validate(\n",
        "    pipe_ridge, X_train, y_train_00,\n",
        "    cv=5, scoring=['precision', 'recall', 'f1'],\n",
        "    return_train_score = True,\n",
        "    return_estimator=True\n",
        ")\n",
        "pprint(cv_bin_ridge)"
      ],
      "metadata": {
        "colab": {
          "base_uri": "https://localhost:8080/"
        },
        "id": "H9xJg-IVEOFh",
        "outputId": "e129f1bc-d6d0-4820-f65c-9ceb0393c766"
      },
      "execution_count": 47,
      "outputs": [
        {
          "output_type": "stream",
          "name": "stderr",
          "text": [
            "/usr/local/lib/python3.7/dist-packages/sklearn/linear_model/_base.py:155: FutureWarning: 'normalize' was deprecated in version 1.0 and will be removed in 1.2. Please leave the normalize parameter to its default value to silence this warning. The default behavior of this estimator is to not do any normalization. If normalization is needed please use sklearn.preprocessing.StandardScaler instead.\n",
            "  FutureWarning,\n",
            "/usr/local/lib/python3.7/dist-packages/sklearn/linear_model/_base.py:155: FutureWarning: 'normalize' was deprecated in version 1.0 and will be removed in 1.2. Please leave the normalize parameter to its default value to silence this warning. The default behavior of this estimator is to not do any normalization. If normalization is needed please use sklearn.preprocessing.StandardScaler instead.\n",
            "  FutureWarning,\n",
            "/usr/local/lib/python3.7/dist-packages/sklearn/linear_model/_base.py:155: FutureWarning: 'normalize' was deprecated in version 1.0 and will be removed in 1.2. Please leave the normalize parameter to its default value to silence this warning. The default behavior of this estimator is to not do any normalization. If normalization is needed please use sklearn.preprocessing.StandardScaler instead.\n",
            "  FutureWarning,\n",
            "/usr/local/lib/python3.7/dist-packages/sklearn/linear_model/_base.py:155: FutureWarning: 'normalize' was deprecated in version 1.0 and will be removed in 1.2. Please leave the normalize parameter to its default value to silence this warning. The default behavior of this estimator is to not do any normalization. If normalization is needed please use sklearn.preprocessing.StandardScaler instead.\n",
            "  FutureWarning,\n",
            "/usr/local/lib/python3.7/dist-packages/sklearn/linear_model/_base.py:155: FutureWarning: 'normalize' was deprecated in version 1.0 and will be removed in 1.2. Please leave the normalize parameter to its default value to silence this warning. The default behavior of this estimator is to not do any normalization. If normalization is needed please use sklearn.preprocessing.StandardScaler instead.\n",
            "  FutureWarning,\n"
          ]
        },
        {
          "output_type": "stream",
          "name": "stdout",
          "text": [
            "{'estimator': [Pipeline(steps=[('minmaxscaler', MinMaxScaler()),\n",
            "                ('ridgeclassifier', RidgeClassifier(alpha=0, normalize=False))]),\n",
            "               Pipeline(steps=[('minmaxscaler', MinMaxScaler()),\n",
            "                ('ridgeclassifier', RidgeClassifier(alpha=0, normalize=False))]),\n",
            "               Pipeline(steps=[('minmaxscaler', MinMaxScaler()),\n",
            "                ('ridgeclassifier', RidgeClassifier(alpha=0, normalize=False))]),\n",
            "               Pipeline(steps=[('minmaxscaler', MinMaxScaler()),\n",
            "                ('ridgeclassifier', RidgeClassifier(alpha=0, normalize=False))]),\n",
            "               Pipeline(steps=[('minmaxscaler', MinMaxScaler()),\n",
            "                ('ridgeclassifier', RidgeClassifier(alpha=0, normalize=False))])],\n",
            " 'fit_time': array([10.73613667, 10.59751058, 10.6917963 , 10.68421388, 10.6440835 ]),\n",
            " 'score_time': array([0.10539794, 0.08716774, 0.098279  , 0.08655119, 0.08667755]),\n",
            " 'test_f1': array([0.9123734 , 0.90260026, 0.91596265, 0.90429338, 0.90982143]),\n",
            " 'test_precision': array([0.95308188, 0.9437788 , 0.96804511, 0.96194101, 0.96587678]),\n",
            " 'test_recall': array([0.875     , 0.86486486, 0.86919831, 0.85316456, 0.85991561]),\n",
            " 'train_f1': array([0.91412742, 0.91797828, 0.914     , 0.9185776 , 0.91487704]),\n",
            " 'train_precision': array([0.96243584, 0.96684567, 0.96503989, 0.96665889, 0.96752177]),\n",
            " 'train_recall': array([0.8704368 , 0.87381304, 0.8680878 , 0.87505276, 0.86766568])}\n"
          ]
        }
      ]
    },
    {
      "cell_type": "code",
      "source": [
        "best_estimator_id = np.argmax(cv_bin_ridge['train_f1'])\n",
        "best_estimator_id"
      ],
      "metadata": {
        "colab": {
          "base_uri": "https://localhost:8080/"
        },
        "id": "vahaR6ESFSso",
        "outputId": "f1a40dd0-427a-410d-83ab-defa0496f8b6"
      },
      "execution_count": 48,
      "outputs": [
        {
          "output_type": "execute_result",
          "data": {
            "text/plain": [
              "3"
            ]
          },
          "metadata": {},
          "execution_count": 48
        }
      ]
    },
    {
      "cell_type": "code",
      "source": [
        "best_estimator = cv_bin_ridge[\"estimator\"][3]\n",
        "best_estimator"
      ],
      "metadata": {
        "colab": {
          "base_uri": "https://localhost:8080/"
        },
        "id": "F_uCoVM8Frtz",
        "outputId": "c4fa96f4-1241-48cd-9a75-29d81973e1f8"
      },
      "execution_count": 50,
      "outputs": [
        {
          "output_type": "execute_result",
          "data": {
            "text/plain": [
              "Pipeline(steps=[('minmaxscaler', MinMaxScaler()),\n",
              "                ('ridgeclassifier', RidgeClassifier(alpha=0, normalize=False))])"
            ]
          },
          "metadata": {},
          "execution_count": 50
        }
      ]
    },
    {
      "cell_type": "markdown",
      "source": [
        "Performence Evaluation"
      ],
      "metadata": {
        "id": "Phe50H2eGRDj"
      }
    },
    {
      "cell_type": "code",
      "source": [
        "y_hat_000 = best_estimator.predict(X_test)\n",
        "print(classification_report(y_test_00, y_hat_000))"
      ],
      "metadata": {
        "colab": {
          "base_uri": "https://localhost:8080/"
        },
        "id": "RKGQmPBpGUEC",
        "outputId": "2bf545b1-ebce-4596-94bb-9364d2faaa74"
      },
      "execution_count": 51,
      "outputs": [
        {
          "output_type": "stream",
          "name": "stdout",
          "text": [
            "              precision    recall  f1-score   support\n",
            "\n",
            "        -1.0       0.99      0.99      0.99      9020\n",
            "         1.0       0.95      0.88      0.91       980\n",
            "\n",
            "    accuracy                           0.98     10000\n",
            "   macro avg       0.97      0.94      0.95     10000\n",
            "weighted avg       0.98      0.98      0.98     10000\n",
            "\n"
          ]
        }
      ]
    },
    {
      "cell_type": "code",
      "source": [
        "cm = ConfusionMatrixDisplay.from_predictions(y_test_00, y_hat_000)"
      ],
      "metadata": {
        "colab": {
          "base_uri": "https://localhost:8080/",
          "height": 279
        },
        "id": "-Pdrt6HIGnwQ",
        "outputId": "03fa6af5-8328-4c0d-ed58-d5f735372e89"
      },
      "execution_count": 52,
      "outputs": [
        {
          "output_type": "display_data",
          "data": {
            "text/plain": [
              "<Figure size 432x288 with 2 Axes>"
            ],
            "image/png": "[encoded data removed]"
          },
          "metadata": {
            "needs_background": "light"
          }
        }
      ]
    },
    {
      "cell_type": "markdown",
      "source": [
        "# **LogisticRegression For MultiClass**"
      ],
      "metadata": {
        "id": "O-T92Dt9QlVS"
      }
    },
    {
      "cell_type": "code",
      "source": [
        "pipe_logit_all = make_pipeline(MinMaxScaler(), LogisticRegression(random_state=1729,\n",
        "                                                                solver='lbfgs',\n",
        "                                                                C=np.infty))\n",
        "pipe_logit_all.fit(X_train,y_train)"
      ],
      "metadata": {
        "id": "aMloGtVtQqZi"
      },
      "execution_count": null,
      "outputs": []
    },
    {
      "cell_type": "code",
      "source": [
        "y_hat = pipe_logit_all.predict(X_test)\n",
        "cm = ConfusionMatrixDisplay.from_predictions(y_test, y_hat)"
      ],
      "metadata": {
        "colab": {
          "base_uri": "https://localhost:8080/",
          "height": 279
        },
        "id": "g9aXvbrgRxfX",
        "outputId": "d17dd38c-1502-420f-cb57-7b2dad2b6965"
      },
      "execution_count": 60,
      "outputs": [
        {
          "output_type": "display_data",
          "data": {
            "text/plain": [
              "<Figure size 432x288 with 2 Axes>"
            ],
            "image/png": "[encoded data removed]"
          },
          "metadata": {
            "needs_background": "light"
          }
        }
      ]
    },
    {
      "cell_type": "code",
      "source": [
        "print(classification_report(y_test,y_hat))"
      ],
      "metadata": {
        "colab": {
          "base_uri": "https://localhost:8080/"
        },
        "id": "FMJtvrbkSChV",
        "outputId": "b1cc4e88-996f-4011-e5a4-279fdf681af4"
      },
      "execution_count": 61,
      "outputs": [
        {
          "output_type": "stream",
          "name": "stdout",
          "text": [
            "              precision    recall  f1-score   support\n",
            "\n",
            "           0       0.95      0.98      0.97       980\n",
            "           1       0.96      0.98      0.97      1135\n",
            "           2       0.93      0.90      0.91      1032\n",
            "           3       0.90      0.91      0.91      1010\n",
            "           4       0.94      0.93      0.93       982\n",
            "           5       0.91      0.88      0.89       892\n",
            "           6       0.93      0.95      0.94       958\n",
            "           7       0.94      0.93      0.93      1028\n",
            "           8       0.88      0.88      0.88       974\n",
            "           9       0.91      0.92      0.92      1009\n",
            "\n",
            "    accuracy                           0.93     10000\n",
            "   macro avg       0.92      0.92      0.92     10000\n",
            "weighted avg       0.93      0.93      0.93     10000\n",
            "\n"
          ]
        }
      ]
    }
  ]
}