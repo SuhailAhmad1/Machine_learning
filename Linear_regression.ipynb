{
  "nbformat": 4,
  "nbformat_minor": 0,
  "metadata": {
    "colab": {
      "name": "Linear_regression.ipynb",
      "provenance": [],
      "toc_visible": true,
      "authorship_tag": "ABX9TyNnXJG8R+fnchDciOf+DLDj",
      "include_colab_link": true
    },
    "kernelspec": {
      "name": "python3",
      "display_name": "Python 3"
    },
    "language_info": {
      "name": "python"
    }
  },
  "cells": [
    {
      "cell_type": "markdown",
      "metadata": {
        "id": "view-in-github",
        "colab_type": "text"
      },
      "source": [
        "<a href=\"https://colab.research.google.com/github/SuhailAhmad1/Machine_learning/blob/main/Linear_regression.ipynb\" target=\"_parent\"><img src=\"https://colab.research.google.com/assets/colab-badge.svg\" alt=\"Open In Colab\"/></a>"
      ]
    },
    {
      "cell_type": "markdown",
      "source": [
        "**Linear** **Regression**"
      ],
      "metadata": {
        "id": "mE2V4cn1Oefj"
      }
    },
    {
      "cell_type": "code",
      "source": [
        "import numpy as np\n",
        "import pandas as pd\n",
        "import matplotlib.pyplot as plt\n",
        "import seaborn as sns\n",
        "\n",
        "from sklearn.datasets import fetch_california_housing\n",
        "from sklearn.linear_model import LinearRegression\n",
        "\n",
        "from sklearn.model_selection import cross_validate\n",
        "from sklearn.model_selection import cross_val_score\n",
        "from sklearn.model_selection import learning_curve\n",
        "from sklearn.model_selection import ShuffleSplit\n",
        "\n",
        "from sklearn.metrics import mean_absolute_error\n",
        "\n",
        "from sklearn.pipeline import Pipeline\n",
        "from sklearn.preprocessing import StandardScaler"
      ],
      "metadata": {
        "id": "W0QBSOMhPC1c"
      },
      "execution_count": null,
      "outputs": []
    },
    {
      "cell_type": "code",
      "source": [
        "np.random.seed(306)\n",
        "plt.style.use('seaborn')"
      ],
      "metadata": {
        "id": "Alyqeqi3QDxC"
      },
      "execution_count": null,
      "outputs": []
    },
    {
      "cell_type": "code",
      "source": [
        "shuffle_split_cv = ShuffleSplit(n_splits=10, test_size=0.2, random_state=0)"
      ],
      "metadata": {
        "id": "AkrBkrxQQW53"
      },
      "execution_count": null,
      "outputs": []
    },
    {
      "cell_type": "markdown",
      "source": [
        "# Step 1: Load the datasets"
      ],
      "metadata": {
        "id": "CJjsajtKQl3v"
      }
    },
    {
      "cell_type": "code",
      "source": [
        "features, label = fetch_california_housing(as_frame=True, return_X_y=True)"
      ],
      "metadata": {
        "id": "3jqsRgBaQpqU"
      },
      "execution_count": null,
      "outputs": []
    },
    {
      "cell_type": "code",
      "source": [
        "print(\"Shape of Features : \", features.shape)\n",
        "print(\"Shape of Label : \", label.shape)"
      ],
      "metadata": {
        "colab": {
          "base_uri": "https://localhost:8080/"
        },
        "id": "Xzhk9ZJgQ7zM",
        "outputId": "52068ac1-67ba-4b30-948b-4f9ea598cb59"
      },
      "execution_count": null,
      "outputs": [
        {
          "output_type": "stream",
          "name": "stdout",
          "text": [
            "Shape of Features :  (20640, 8)\n",
            "Shape of Label :  (20640,)\n"
          ]
        }
      ]
    },
    {
      "cell_type": "markdown",
      "source": [
        "# Step 3: Preprocessing and Model Building"
      ],
      "metadata": {
        "id": "kl1-8wipR1J2"
      }
    },
    {
      "cell_type": "code",
      "source": [
        "from sklearn.model_selection import train_test_split\n",
        "X_train, X_test, y_train, y_test = train_test_split(features, label, random_state=42)"
      ],
      "metadata": {
        "id": "MAB_qnidRox9"
      },
      "execution_count": null,
      "outputs": []
    },
    {
      "cell_type": "code",
      "source": [
        "print(\"Trainings Samples : \", X_train.shape[0])\n",
        "print(\"Test Samples : \", X_test.shape[0])"
      ],
      "metadata": {
        "colab": {
          "base_uri": "https://localhost:8080/"
        },
        "id": "AgDp0F2FSlqQ",
        "outputId": "c47b1cc2-8da0-4193-dbc7-9eddef998e3b"
      },
      "execution_count": null,
      "outputs": [
        {
          "output_type": "stream",
          "name": "stdout",
          "text": [
            "Trainings Samples :  15480\n",
            "Test Samples :  5160\n"
          ]
        }
      ]
    },
    {
      "cell_type": "code",
      "source": [
        "X_train.head()"
      ],
      "metadata": {
        "colab": {
          "base_uri": "https://localhost:8080/",
          "height": 206
        },
        "id": "f_jofd8BTMwR",
        "outputId": "ba1d8b6d-2a64-458d-9dc6-61f0d6474c31"
      },
      "execution_count": null,
      "outputs": [
        {
          "output_type": "execute_result",
          "data": {
            "text/plain": [
              "       MedInc  HouseAge  AveRooms  AveBedrms  Population  AveOccup  Latitude  \\\n",
              "8158   4.2143      37.0  5.288235   0.973529       860.0  2.529412     33.81   \n",
              "18368  5.3468      42.0  6.364322   1.087940       957.0  2.404523     37.16   \n",
              "19197  3.9191      36.0  6.110063   1.059748       711.0  2.235849     38.45   \n",
              "3746   6.3703      32.0  6.000000   0.990196      1159.0  2.272549     34.16   \n",
              "13073  2.3684      17.0  4.795858   1.035503       706.0  2.088757     38.57   \n",
              "\n",
              "       Longitude  \n",
              "8158     -118.12  \n",
              "18368    -121.98  \n",
              "19197    -122.69  \n",
              "3746     -118.41  \n",
              "13073    -121.33  "
            ],
            "text/html": [
              "\n",
              "  <div id=\"df-677b4c13-c0af-4af5-95a2-40c743313593\">\n",
              "    <div class=\"colab-df-container\">\n",
              "      <div>\n",
              "<style scoped>\n",
              "    .dataframe tbody tr th:only-of-type {\n",
              "        vertical-align: middle;\n",
              "    }\n",
              "\n",
              "    .dataframe tbody tr th {\n",
              "        vertical-align: top;\n",
              "    }\n",
              "\n",
              "    .dataframe thead th {\n",
              "        text-align: right;\n",
              "    }\n",
              "</style>\n",
              "<table border=\"1\" class=\"dataframe\">\n",
              "  <thead>\n",
              "    <tr style=\"text-align: right;\">\n",
              "      <th></th>\n",
              "      <th>MedInc</th>\n",
              "      <th>HouseAge</th>\n",
              "      <th>AveRooms</th>\n",
              "      <th>AveBedrms</th>\n",
              "      <th>Population</th>\n",
              "      <th>AveOccup</th>\n",
              "      <th>Latitude</th>\n",
              "      <th>Longitude</th>\n",
              "    </tr>\n",
              "  </thead>\n",
              "  <tbody>\n",
              "    <tr>\n",
              "      <th>8158</th>\n",
              "      <td>4.2143</td>\n",
              "      <td>37.0</td>\n",
              "      <td>5.288235</td>\n",
              "      <td>0.973529</td>\n",
              "      <td>860.0</td>\n",
              "      <td>2.529412</td>\n",
              "      <td>33.81</td>\n",
              "      <td>-118.12</td>\n",
              "    </tr>\n",
              "    <tr>\n",
              "      <th>18368</th>\n",
              "      <td>5.3468</td>\n",
              "      <td>42.0</td>\n",
              "      <td>6.364322</td>\n",
              "      <td>1.087940</td>\n",
              "      <td>957.0</td>\n",
              "      <td>2.404523</td>\n",
              "      <td>37.16</td>\n",
              "      <td>-121.98</td>\n",
              "    </tr>\n",
              "    <tr>\n",
              "      <th>19197</th>\n",
              "      <td>3.9191</td>\n",
              "      <td>36.0</td>\n",
              "      <td>6.110063</td>\n",
              "      <td>1.059748</td>\n",
              "      <td>711.0</td>\n",
              "      <td>2.235849</td>\n",
              "      <td>38.45</td>\n",
              "      <td>-122.69</td>\n",
              "    </tr>\n",
              "    <tr>\n",
              "      <th>3746</th>\n",
              "      <td>6.3703</td>\n",
              "      <td>32.0</td>\n",
              "      <td>6.000000</td>\n",
              "      <td>0.990196</td>\n",
              "      <td>1159.0</td>\n",
              "      <td>2.272549</td>\n",
              "      <td>34.16</td>\n",
              "      <td>-118.41</td>\n",
              "    </tr>\n",
              "    <tr>\n",
              "      <th>13073</th>\n",
              "      <td>2.3684</td>\n",
              "      <td>17.0</td>\n",
              "      <td>4.795858</td>\n",
              "      <td>1.035503</td>\n",
              "      <td>706.0</td>\n",
              "      <td>2.088757</td>\n",
              "      <td>38.57</td>\n",
              "      <td>-121.33</td>\n",
              "    </tr>\n",
              "  </tbody>\n",
              "</table>\n",
              "</div>\n",
              "      <button class=\"colab-df-convert\" onclick=\"convertToInteractive('df-677b4c13-c0af-4af5-95a2-40c743313593')\"\n",
              "              title=\"Convert this dataframe to an interactive table.\"\n",
              "              style=\"display:none;\">\n",
              "        \n",
              "  <svg xmlns=\"http://www.w3.org/2000/svg\" height=\"24px\"viewBox=\"0 0 24 24\"\n",
              "       width=\"24px\">\n",
              "    <path d=\"M0 0h24v24H0V0z\" fill=\"none\"/>\n",
              "    <path d=\"M18.56 5.44l.94 2.06.94-2.06 2.06-.94-2.06-.94-.94-2.06-.94 2.06-2.06.94zm-11 1L8.5 8.5l.94-2.06 2.06-.94-2.06-.94L8.5 2.5l-.94 2.06-2.06.94zm10 10l.94 2.06.94-2.06 2.06-.94-2.06-.94-.94-2.06-.94 2.06-2.06.94z\"/><path d=\"M17.41 7.96l-1.37-1.37c-.4-.4-.92-.59-1.43-.59-.52 0-1.04.2-1.43.59L10.3 9.45l-7.72 7.72c-.78.78-.78 2.05 0 2.83L4 21.41c.39.39.9.59 1.41.59.51 0 1.02-.2 1.41-.59l7.78-7.78 2.81-2.81c.8-.78.8-2.07 0-2.86zM5.41 20L4 18.59l7.72-7.72 1.47 1.35L5.41 20z\"/>\n",
              "  </svg>\n",
              "      </button>\n",
              "      \n",
              "  <style>\n",
              "    .colab-df-container {\n",
              "      display:flex;\n",
              "      flex-wrap:wrap;\n",
              "      gap: 12px;\n",
              "    }\n",
              "\n",
              "    .colab-df-convert {\n",
              "      background-color: #E8F0FE;\n",
              "      border: none;\n",
              "      border-radius: 50%;\n",
              "      cursor: pointer;\n",
              "      display: none;\n",
              "      fill: #1967D2;\n",
              "      height: 32px;\n",
              "      padding: 0 0 0 0;\n",
              "      width: 32px;\n",
              "    }\n",
              "\n",
              "    .colab-df-convert:hover {\n",
              "      background-color: #E2EBFA;\n",
              "      box-shadow: 0px 1px 2px rgba(60, 64, 67, 0.3), 0px 1px 3px 1px rgba(60, 64, 67, 0.15);\n",
              "      fill: #174EA6;\n",
              "    }\n",
              "\n",
              "    [theme=dark] .colab-df-convert {\n",
              "      background-color: #3B4455;\n",
              "      fill: #D2E3FC;\n",
              "    }\n",
              "\n",
              "    [theme=dark] .colab-df-convert:hover {\n",
              "      background-color: #434B5C;\n",
              "      box-shadow: 0px 1px 3px 1px rgba(0, 0, 0, 0.15);\n",
              "      filter: drop-shadow(0px 1px 2px rgba(0, 0, 0, 0.3));\n",
              "      fill: #FFFFFF;\n",
              "    }\n",
              "  </style>\n",
              "\n",
              "      <script>\n",
              "        const buttonEl =\n",
              "          document.querySelector('#df-677b4c13-c0af-4af5-95a2-40c743313593 button.colab-df-convert');\n",
              "        buttonEl.style.display =\n",
              "          google.colab.kernel.accessAllowed ? 'block' : 'none';\n",
              "\n",
              "        async function convertToInteractive(key) {\n",
              "          const element = document.querySelector('#df-677b4c13-c0af-4af5-95a2-40c743313593');\n",
              "          const dataTable =\n",
              "            await google.colab.kernel.invokeFunction('convertToInteractive',\n",
              "                                                     [key], {});\n",
              "          if (!dataTable) return;\n",
              "\n",
              "          const docLinkHtml = 'Like what you see? Visit the ' +\n",
              "            '<a target=\"_blank\" href=https://colab.research.google.com/notebooks/data_table.ipynb>data table notebook</a>'\n",
              "            + ' to learn more about interactive tables.';\n",
              "          element.innerHTML = '';\n",
              "          dataTable['output_type'] = 'display_data';\n",
              "          await google.colab.output.renderOutput(dataTable, element);\n",
              "          const docLink = document.createElement('div');\n",
              "          docLink.innerHTML = docLinkHtml;\n",
              "          element.appendChild(docLink);\n",
              "        }\n",
              "      </script>\n",
              "    </div>\n",
              "  </div>\n",
              "  "
            ]
          },
          "metadata": {},
          "execution_count": 15
        }
      ]
    },
    {
      "cell_type": "code",
      "source": [
        "y_train.head()"
      ],
      "metadata": {
        "colab": {
          "base_uri": "https://localhost:8080/"
        },
        "id": "ntL6zGdcZhu5",
        "outputId": "c3f9b9fd-6730-4715-bedb-fb6538fdd55a"
      },
      "execution_count": null,
      "outputs": [
        {
          "output_type": "execute_result",
          "data": {
            "text/plain": [
              "8158     2.285\n",
              "18368    2.799\n",
              "19197    1.830\n",
              "3746     4.658\n",
              "13073    1.500\n",
              "Name: MedHouseVal, dtype: float64"
            ]
          },
          "metadata": {},
          "execution_count": 21
        }
      ]
    },
    {
      "cell_type": "markdown",
      "source": [
        "# 3.2: Pipleline and Preprocessing + Model"
      ],
      "metadata": {
        "id": "fFO0YWO8Z4IV"
      }
    },
    {
      "cell_type": "code",
      "source": [
        "lin_reg_pipeline = Pipeline([(\"feature_scaling\", StandardScaler()),\n",
        "                             (\"lin_reg\", LinearRegression())])\n",
        "lin_reg_pipeline.fit(X_train, y_train)\n"
      ],
      "metadata": {
        "colab": {
          "base_uri": "https://localhost:8080/"
        },
        "id": "g0kIguCdaCel",
        "outputId": "8439261d-1d6c-43e5-a09c-700fb1a7f307"
      },
      "execution_count": null,
      "outputs": [
        {
          "output_type": "execute_result",
          "data": {
            "text/plain": [
              "Pipeline(steps=[('feature_scaling', StandardScaler()),\n",
              "                ('lin_reg', LinearRegression())])"
            ]
          },
          "metadata": {},
          "execution_count": 23
        }
      ]
    },
    {
      "cell_type": "code",
      "source": [
        "print(\"Intercept (w_0) : \", lin_reg_pipeline[-1].intercept_)\n",
        "print(\"Weight Vector : \", lin_reg_pipeline[-1].coef_)"
      ],
      "metadata": {
        "colab": {
          "base_uri": "https://localhost:8080/"
        },
        "id": "B-wPyCyuayKj",
        "outputId": "8391ad41-1734-47e2-c629-32895c79b7bf"
      },
      "execution_count": null,
      "outputs": [
        {
          "output_type": "stream",
          "name": "stdout",
          "text": [
            "Intercept (w_0) :  2.0703489205426377\n",
            "Weight Vector :  [ 0.85210815  0.12065533 -0.30210555  0.34860575 -0.00164465 -0.04116356\n",
            " -0.89314697 -0.86784046]\n"
          ]
        }
      ]
    },
    {
      "cell_type": "markdown",
      "source": [
        "# 4. Model Evaluation"
      ],
      "metadata": {
        "id": "-ShzVgSsbV36"
      }
    },
    {
      "cell_type": "markdown",
      "source": [
        "4.1 **score**"
      ],
      "metadata": {
        "id": "ibT_SSXVcRzE"
      }
    },
    {
      "cell_type": "code",
      "source": [
        "test_score = lin_reg_pipeline.score(X_test, y_test)\n",
        "print(\"Model performence on Test set : \",test_score)\n",
        "\n",
        "train_score = lin_reg_pipeline.score(X_train, y_train)\n",
        "print(\"Model performence on Training set : \",train_score)"
      ],
      "metadata": {
        "colab": {
          "base_uri": "https://localhost:8080/"
        },
        "id": "EY4sgBXHbQmU",
        "outputId": "d06877be-8147-42c3-a028-5fcd3f21546a"
      },
      "execution_count": null,
      "outputs": [
        {
          "output_type": "stream",
          "name": "stdout",
          "text": [
            "Model performence on Test set :  0.5910509795491352\n",
            "Model performence on Training set :  0.609873031052925\n"
          ]
        }
      ]
    },
    {
      "cell_type": "markdown",
      "source": [
        "4.2 **Cross Validation**"
      ],
      "metadata": {
        "id": "kjy2bzRrcVIe"
      }
    },
    {
      "cell_type": "code",
      "source": [
        "lin_reg_score = cross_val_score(lin_reg_pipeline,\n",
        "                                X_train,\n",
        "                                y_train,\n",
        "                                scoring='neg_mean_squared_error',\n",
        "                                cv=shuffle_split_cv)\n",
        "\n",
        "print(lin_reg_score)"
      ],
      "metadata": {
        "colab": {
          "base_uri": "https://localhost:8080/"
        },
        "id": "eG6Cx5PycYDG",
        "outputId": "828b8cf0-2ae3-4fca-c460-750229f460e6"
      },
      "execution_count": null,
      "outputs": [
        {
          "output_type": "stream",
          "name": "stdout",
          "text": [
            "[-0.50009976 -0.52183352 -0.55931218 -0.52110499 -0.56059203 -0.50510767\n",
            " -0.52386194 -0.54775518 -0.5007161  -0.54713448]\n"
          ]
        }
      ]
    },
    {
      "cell_type": "code",
      "source": [
        "lin_reg_mse = -lin_reg_score\n",
        "print(\"Mean squared error : \", lin_reg_mse.mean(), '+/-', lin_reg_mse.std())"
      ],
      "metadata": {
        "colab": {
          "base_uri": "https://localhost:8080/"
        },
        "id": "-mDfP4E4dinN",
        "outputId": "8e1852aa-8f86-40b1-da70-ca103d9d5958"
      },
      "execution_count": null,
      "outputs": [
        {
          "output_type": "stream",
          "name": "stdout",
          "text": [
            "Mean squared error :  0.5287517875396764 +/- 0.022232904569798696\n"
          ]
        }
      ]
    },
    {
      "cell_type": "markdown",
      "source": [
        "# Practise Assignment Solutions"
      ],
      "metadata": {
        "id": "5cQADldG5ub0"
      }
    },
    {
      "cell_type": "code",
      "source": [
        "from sklearn.datasets import fetch_california_housing\n",
        "import numpy as np\n",
        "import pandas as pd"
      ],
      "metadata": {
        "id": "YvY0t9PK50eS"
      },
      "execution_count": null,
      "outputs": []
    },
    {
      "cell_type": "code",
      "source": [
        "X, y = fetch_california_housing(return_X_y=True, as_frame=True)"
      ],
      "metadata": {
        "id": "ZQd0b5r25-p7"
      },
      "execution_count": null,
      "outputs": []
    },
    {
      "cell_type": "code",
      "source": [
        "#Q1: Shape of fetaure matrix\n",
        "X.shape"
      ],
      "metadata": {
        "colab": {
          "base_uri": "https://localhost:8080/"
        },
        "id": "5egWn9fi6JE7",
        "outputId": "b8dab03f-7c85-45bd-97d1-f8c983714df2"
      },
      "execution_count": null,
      "outputs": [
        {
          "output_type": "execute_result",
          "data": {
            "text/plain": [
              "(20640, 8)"
            ]
          },
          "metadata": {},
          "execution_count": 57
        }
      ]
    },
    {
      "cell_type": "code",
      "source": [
        "#Q2: Missing values\n",
        "X.isnull().sum().sum()"
      ],
      "metadata": {
        "colab": {
          "base_uri": "https://localhost:8080/"
        },
        "id": "caLILJX96T6F",
        "outputId": "2758584c-633a-4acc-d0e9-53bb378f4576"
      },
      "execution_count": null,
      "outputs": [
        {
          "output_type": "execute_result",
          "data": {
            "text/plain": [
              "0"
            ]
          },
          "metadata": {},
          "execution_count": 58
        }
      ]
    },
    {
      "cell_type": "code",
      "source": [
        "#Q3: split into train_test\n",
        "from sklearn.model_selection import train_test_split\n",
        "X_train, X_test, y_train, y_test = train_test_split(X, y, test_size=0.2, shuffle=False, random_state=0)\n",
        "X_test = np.array(X_test)\n",
        "X_test[2][1]"
      ],
      "metadata": {
        "colab": {
          "base_uri": "https://localhost:8080/"
        },
        "id": "lYT-OMdl6vl-",
        "outputId": "f619cae3-3bee-40fb-e133-77b9ac0fbba1"
      },
      "execution_count": null,
      "outputs": [
        {
          "output_type": "execute_result",
          "data": {
            "text/plain": [
              "28.0"
            ]
          },
          "metadata": {},
          "execution_count": 59
        }
      ]
    },
    {
      "cell_type": "code",
      "source": [
        "#Q4: \n",
        "from sklearn.model_selection import train_test_split\n",
        "X_train, X_test, y_train, y_test = train_test_split(X, y, test_size=0.2, shuffle=False, random_state=0)\n",
        "X_train[\"Population\"]"
      ],
      "metadata": {
        "colab": {
          "base_uri": "https://localhost:8080/"
        },
        "id": "EKh5BbdP8FLb",
        "outputId": "4bad73b5-6ee6-4120-f362-429423150f5f"
      },
      "execution_count": null,
      "outputs": [
        {
          "output_type": "execute_result",
          "data": {
            "text/plain": [
              "0         322.0\n",
              "1        2401.0\n",
              "2         496.0\n",
              "3         558.0\n",
              "4         565.0\n",
              "          ...  \n",
              "16507    1605.0\n",
              "16508     958.0\n",
              "16509    1252.0\n",
              "16510    3006.0\n",
              "16511    1292.0\n",
              "Name: Population, Length: 16512, dtype: float64"
            ]
          },
          "metadata": {},
          "execution_count": 60
        }
      ]
    },
    {
      "cell_type": "code",
      "source": [
        "#Q4: Mean of traing output label\n",
        "y_train.mean()"
      ],
      "metadata": {
        "colab": {
          "base_uri": "https://localhost:8080/"
        },
        "id": "_vCc9h8i8X-p",
        "outputId": "1800fc01-4990-4df9-f07b-8e335918f3b5"
      },
      "execution_count": null,
      "outputs": [
        {
          "output_type": "execute_result",
          "data": {
            "text/plain": [
              "2.020670313105598"
            ]
          },
          "metadata": {},
          "execution_count": 61
        }
      ]
    },
    {
      "cell_type": "code",
      "source": [
        "#Q5: Medain of the output label\n",
        "y_test.median()"
      ],
      "metadata": {
        "colab": {
          "base_uri": "https://localhost:8080/"
        },
        "id": "gKcDE1tb8k2-",
        "outputId": "b4f8ae12-5471-4205-d745-f7be8b3c6405"
      },
      "execution_count": null,
      "outputs": [
        {
          "output_type": "execute_result",
          "data": {
            "text/plain": [
              "2.1475"
            ]
          },
          "metadata": {},
          "execution_count": 62
        }
      ]
    },
    {
      "cell_type": "code",
      "source": [
        "#Q5: coefficients of our model\n",
        "from sklearn.pipeline import Pipeline\n",
        "from sklearn.preprocessing import StandardScaler\n",
        "from sklearn.linear_model import LinearRegression\n",
        "lin_pipe = Pipeline([\n",
        "                     ('standard_scaalr', StandardScaler()),\n",
        "                     ('linear_regression', LinearRegression())])\n",
        "lin_pipe.fit(X_train,y_train)\n",
        "print(\"Coeficients are : \", lin_pipe[-1].coef_)"
      ],
      "metadata": {
        "colab": {
          "base_uri": "https://localhost:8080/"
        },
        "id": "5Ur0hl409XFU",
        "outputId": "6b9a942c-3390-4e73-bd99-38c7dffa06fe"
      },
      "execution_count": null,
      "outputs": [
        {
          "output_type": "stream",
          "name": "stdout",
          "text": [
            "Coeficients are :  [ 0.83817967  0.12032096 -0.32135834  0.36456599 -0.00170674 -0.04524631\n",
            " -0.87994217 -0.82634126]\n"
          ]
        }
      ]
    },
    {
      "cell_type": "code",
      "source": [
        "#Q6: bias term in the model\n",
        "print(\"Bias Term : \", lin_pipe[-1].intercept_)"
      ],
      "metadata": {
        "colab": {
          "base_uri": "https://localhost:8080/"
        },
        "id": "Cx-sqsKs-Wg4",
        "outputId": "a57a41a5-11cc-491b-bb76-05ca02b4ed32"
      },
      "execution_count": null,
      "outputs": [
        {
          "output_type": "stream",
          "name": "stdout",
          "text": [
            "Bias Term :  2.020670313105614\n"
          ]
        }
      ]
    },
    {
      "cell_type": "markdown",
      "source": [
        "# Graded Questions Solution"
      ],
      "metadata": {
        "id": "Xa9C-rml-thz"
      }
    },
    {
      "cell_type": "code",
      "source": [
        "#Q1: r2 value\n",
        "\n",
        "lin_pipe.score(X_test,y_test)"
      ],
      "metadata": {
        "colab": {
          "base_uri": "https://localhost:8080/"
        },
        "id": "RkEqSsa8-xPI",
        "outputId": "edf9decc-9940-4aa4-ad36-d72a4e77b25d"
      },
      "execution_count": null,
      "outputs": [
        {
          "output_type": "execute_result",
          "data": {
            "text/plain": [
              "0.6605140591531992"
            ]
          },
          "metadata": {},
          "execution_count": 65
        }
      ]
    },
    {
      "cell_type": "code",
      "source": [
        "#Q2: rmse error\n",
        "from sklearn.metrics import mean_squared_error\n",
        "print(\"root_mean_square_error : \", mean_squared_error(y_test, lin_pipe.predict(X_test))**(1/2))"
      ],
      "metadata": {
        "colab": {
          "base_uri": "https://localhost:8080/"
        },
        "id": "Kf-ziwZy_fAl",
        "outputId": "7465e67e-3129-4626-8085-675690263bab"
      },
      "execution_count": null,
      "outputs": [
        {
          "output_type": "stream",
          "name": "stdout",
          "text": [
            "root_mean_square_error :  0.7033383507521878\n"
          ]
        }
      ]
    },
    {
      "cell_type": "code",
      "source": [
        "#Q3:6 on metrics\n",
        "\n",
        "from sklearn.metrics import explained_variance_score\n",
        "explained_variance_score(y_test, lin_pipe.predict(X_test))"
      ],
      "metadata": {
        "colab": {
          "base_uri": "https://localhost:8080/"
        },
        "id": "spSIwRIPBp1x",
        "outputId": "550d525f-d91a-4def-e796-faab17f31bdb"
      },
      "execution_count": null,
      "outputs": [
        {
          "output_type": "execute_result",
          "data": {
            "text/plain": [
              "0.6605500501742703"
            ]
          },
          "metadata": {},
          "execution_count": 69
        }
      ]
    },
    {
      "cell_type": "code",
      "source": [
        "from sklearn.metrics import max_error\n",
        "max_error(y_test, lin_pipe.predict(X_test))"
      ],
      "metadata": {
        "colab": {
          "base_uri": "https://localhost:8080/"
        },
        "id": "IUIvoWWQB-92",
        "outputId": "5220dcdf-507f-45b4-af78-bfb3a666ecc4"
      },
      "execution_count": null,
      "outputs": [
        {
          "output_type": "execute_result",
          "data": {
            "text/plain": [
              "7.260453292958372"
            ]
          },
          "metadata": {},
          "execution_count": 70
        }
      ]
    },
    {
      "cell_type": "code",
      "source": [
        "from sklearn.metrics import mean_absolute_error\n",
        "mean_absolute_error(y_test, lin_pipe.predict(X_test))"
      ],
      "metadata": {
        "colab": {
          "base_uri": "https://localhost:8080/"
        },
        "id": "Dl6s78TqCKHN",
        "outputId": "ab33d1cc-75cf-44c7-d83e-e06c4304d292"
      },
      "execution_count": null,
      "outputs": [
        {
          "output_type": "execute_result",
          "data": {
            "text/plain": [
              "0.5168526993787042"
            ]
          },
          "metadata": {},
          "execution_count": 71
        }
      ]
    },
    {
      "cell_type": "code",
      "source": [
        "#Q7:8 SGD regressor\n",
        "from sklearn.linear_model import SGDRegressor\n",
        "sgd_pipe = Pipeline([\n",
        "                     (\"Standard_Scaler\", StandardScaler()),\n",
        "                     (\"sgd\", SGDRegressor(random_state=0))])\n",
        "sgd_pipe.fit(X_train,y_train)"
      ],
      "metadata": {
        "colab": {
          "base_uri": "https://localhost:8080/"
        },
        "id": "Awr00BJeCaSy",
        "outputId": "2f435e27-0ef7-4763-f96f-91d6c893dbc9"
      },
      "execution_count": null,
      "outputs": [
        {
          "output_type": "execute_result",
          "data": {
            "text/plain": [
              "Pipeline(steps=[('Standard_Scaler', StandardScaler()),\n",
              "                ('sgd', SGDRegressor(random_state=0))])"
            ]
          },
          "metadata": {},
          "execution_count": 90
        }
      ]
    },
    {
      "cell_type": "code",
      "source": [
        "sgd_pipe[-1].coef_"
      ],
      "metadata": {
        "colab": {
          "base_uri": "https://localhost:8080/"
        },
        "id": "dm6o-WimDKL5",
        "outputId": "6c028e70-173e-48c9-af9c-436a68ef2d82"
      },
      "execution_count": null,
      "outputs": [
        {
          "output_type": "execute_result",
          "data": {
            "text/plain": [
              "array([ 0.84046697,  0.112331  , -0.41213039,  0.21595971, -0.01781887,\n",
              "       -0.01480892, -0.87394103, -0.83913104])"
            ]
          },
          "metadata": {},
          "execution_count": 91
        }
      ]
    },
    {
      "cell_type": "code",
      "source": [
        "sgd_pipe[-1].intercept_[0]"
      ],
      "metadata": {
        "colab": {
          "base_uri": "https://localhost:8080/"
        },
        "id": "Mx-VPNcFDQIh",
        "outputId": "c097417f-d304-4d2d-d9de-7dc312201eec"
      },
      "execution_count": null,
      "outputs": [
        {
          "output_type": "execute_result",
          "data": {
            "text/plain": [
              "2.011239208754174"
            ]
          },
          "metadata": {},
          "execution_count": 92
        }
      ]
    }
  ]
}