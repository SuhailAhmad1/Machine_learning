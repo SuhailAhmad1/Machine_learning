{
  "nbformat": 4,
  "nbformat_minor": 0,
  "metadata": {
    "colab": {
      "name": "Week5_Classifictaion.ipynb",
      "provenance": [],
      "authorship_tag": "ABX9TyPrDmtUES1R7vWtL+OgH311",
      "include_colab_link": true
    },
    "kernelspec": {
      "name": "python3",
      "display_name": "Python 3"
    },
    "language_info": {
      "name": "python"
    }
  },
  "cells": [
    {
      "cell_type": "markdown",
      "metadata": {
        "id": "view-in-github",
        "colab_type": "text"
      },
      "source": [
        "<a href=\"https://colab.research.google.com/github/SuhailAhmad1/Machine_learning/blob/main/Classifictaion.ipynb\" target=\"_parent\"><img src=\"https://colab.research.google.com/assets/colab-badge.svg\" alt=\"Open In Colab\"/></a>"
      ]
    },
    {
      "cell_type": "markdown",
      "source": [
        "# Importing Important libraries and data_set"
      ],
      "metadata": {
        "id": "ysMwtQPU6VBT"
      }
    },
    {
      "cell_type": "code",
      "source": [
        "import numpy as np\n",
        "from sklearn.datasets import fetch_openml\n",
        "from sklearn.preprocessing import MinMaxScaler\n",
        "from sklearn.pipeline import Pipeline\n",
        "from sklearn.dummy import DummyClassifier\n",
        "from sklearn.linear_model import Perceptron\n",
        "from sklearn.metrics import hinge_loss, ConfusionMatrixDisplay, confusion_matrix, precision_recall_curve\n",
        "from sklearn.metrics import precision_score, recall_score, classification_report\n",
        "from sklearn.metrics import make_scorer\n",
        "from sklearn.model_selection import cross_validate, cross_val_predict, GridSearchCV\n",
        "from pprint import pprint\n",
        "import matplotlib.pyplot as plt\n"
      ],
      "metadata": {
        "id": "2T1Pi0586dTy"
      },
      "execution_count": 1,
      "outputs": []
    },
    {
      "cell_type": "code",
      "source": [
        "X, y = fetch_openml('mnist_784', version=1, return_X_y=True)"
      ],
      "metadata": {
        "id": "9WqfBaD98GnW"
      },
      "execution_count": 2,
      "outputs": []
    },
    {
      "cell_type": "code",
      "source": [
        "(X, y) = (X.to_numpy(), y.to_numpy())"
      ],
      "metadata": {
        "id": "XBsxRyNi8gH1"
      },
      "execution_count": 3,
      "outputs": []
    },
    {
      "cell_type": "code",
      "source": [
        "X.shape"
      ],
      "metadata": {
        "colab": {
          "base_uri": "https://localhost:8080/"
        },
        "id": "mNvZQPiL8rS5",
        "outputId": "83e18203-3b1b-44ff-a330-e8144b27a67e"
      },
      "execution_count": 4,
      "outputs": [
        {
          "output_type": "execute_result",
          "data": {
            "text/plain": [
              "(70000, 784)"
            ]
          },
          "metadata": {},
          "execution_count": 4
        }
      ]
    },
    {
      "cell_type": "code",
      "source": [
        "y.shape"
      ],
      "metadata": {
        "colab": {
          "base_uri": "https://localhost:8080/"
        },
        "id": "6KPzqbmt8vy-",
        "outputId": "a026eaf1-fe1a-48ac-d729-3bebd3895e33"
      },
      "execution_count": 5,
      "outputs": [
        {
          "output_type": "execute_result",
          "data": {
            "text/plain": [
              "(70000,)"
            ]
          },
          "metadata": {},
          "execution_count": 5
        }
      ]
    },
    {
      "cell_type": "code",
      "source": [
        "print(y)"
      ],
      "metadata": {
        "colab": {
          "base_uri": "https://localhost:8080/"
        },
        "id": "ez7Q_g8CXaEx",
        "outputId": "91dea042-2b8e-4389-e27a-bdbcf84ae527"
      },
      "execution_count": 8,
      "outputs": [
        {
          "output_type": "stream",
          "name": "stdout",
          "text": [
            "['5' '0' '4' ... '4' '5' '6']\n"
          ]
        }
      ]
    },
    {
      "cell_type": "code",
      "source": [
        "X"
      ],
      "metadata": {
        "colab": {
          "base_uri": "https://localhost:8080/"
        },
        "id": "w5UjWoUcXqEP",
        "outputId": "647d8da1-f803-4abb-adb9-040b20213798"
      },
      "execution_count": 10,
      "outputs": [
        {
          "output_type": "execute_result",
          "data": {
            "text/plain": [
              "array([[0., 0., 0., ..., 0., 0., 0.],\n",
              "       [0., 0., 0., ..., 0., 0., 0.],\n",
              "       [0., 0., 0., ..., 0., 0., 0.],\n",
              "       ...,\n",
              "       [0., 0., 0., ..., 0., 0., 0.],\n",
              "       [0., 0., 0., ..., 0., 0., 0.],\n",
              "       [0., 0., 0., ..., 0., 0., 0.]])"
            ]
          },
          "metadata": {},
          "execution_count": 10
        }
      ]
    },
    {
      "cell_type": "code",
      "source": [
        "#Feature Scaling\n",
        "X = MinMaxScaler().fit_transform(X)"
      ],
      "metadata": {
        "id": "kvsKVJOD9Qay"
      },
      "execution_count": 6,
      "outputs": []
    },
    {
      "cell_type": "code",
      "source": [
        "#Visualizing features and labels\n",
        "num_images = 9\n",
        "factor = int(np.sqrt(num_images))\n",
        "fig, ax = plt.subplots(nrows = factor, ncols = factor, figsize=(8,6))\n",
        "idx_offset = 0\n",
        "for i in range(factor):\n",
        "  index = idx_offset+i*(factor)\n",
        "  for j in range(factor):\n",
        "    ax[i,j].imshow(X[index+j].reshape(28,28),cmap='gray')\n",
        "    ax[i,j].set_title('Label:{0}'.format(str(y[index+j])))\n",
        "    ax[i,j].set_axis_off()\n"
      ],
      "metadata": {
        "colab": {
          "base_uri": "https://localhost:8080/",
          "height": 373
        },
        "id": "ffFcOCRr9ZCL",
        "outputId": "95cd6c31-e811-4b92-a0de-b6019a19fc25"
      },
      "execution_count": 7,
      "outputs": [
        {
          "output_type": "display_data",
          "data": {
            "text/plain": [
              "<Figure size 576x432 with 9 Axes>"
            ],
            "image/png": "[encoded data removed]"
          },
          "metadata": {
            "needs_background": "light"
          }
        }
      ]
    },
    {
      "cell_type": "code",
      "source": [
        "#Splitting data \n",
        "X_train, X_test, y_train, y_test = X[:60000], X[60000:], y[:60000], y[60000:]"
      ],
      "metadata": {
        "id": "jc2OVOdS_8xw"
      },
      "execution_count": 11,
      "outputs": []
    },
    {
      "cell_type": "markdown",
      "source": [
        "# Binary Classification : 0-Detector"
      ],
      "metadata": {
        "id": "z2_vZ6YhA6ny"
      }
    },
    {
      "cell_type": "code",
      "source": [
        "y_train_0 = -1*np.ones(len(y_train))\n",
        "y_test_0 = -1*np.ones(len(y_test))\n",
        "index_0 = np.where(y_train == '0')\n",
        "y_train_0[index_0] = 1\n",
        "index_0 = np.where(y_test == '0')\n",
        "y_test_0[index_0] = 1"
      ],
      "metadata": {
        "id": "lhzuLYaeYkM4"
      },
      "execution_count": 21,
      "outputs": []
    },
    {
      "cell_type": "code",
      "source": [
        "y_test_0"
      ],
      "metadata": {
        "id": "mWIalkn4CQz3",
        "colab": {
          "base_uri": "https://localhost:8080/"
        },
        "outputId": "3421645c-1f42-42e8-fa88-d2fb06a02717"
      },
      "execution_count": 77,
      "outputs": [
        {
          "output_type": "execute_result",
          "data": {
            "text/plain": [
              "array([-1., -1., -1., ..., -1., -1., -1.])"
            ]
          },
          "metadata": {},
          "execution_count": 77
        }
      ]
    },
    {
      "cell_type": "code",
      "source": [
        "y_train_0[:10]"
      ],
      "metadata": {
        "colab": {
          "base_uri": "https://localhost:8080/"
        },
        "id": "HsnpgULaBuqj",
        "outputId": "3c8b453d-efe1-4d7b-9a75-5c0927210cd2"
      },
      "execution_count": 78,
      "outputs": [
        {
          "output_type": "execute_result",
          "data": {
            "text/plain": [
              "array([-1.,  1., -1., -1., -1., -1., -1., -1., -1., -1.])"
            ]
          },
          "metadata": {},
          "execution_count": 78
        }
      ]
    },
    {
      "cell_type": "code",
      "source": [
        " #Using Dummy classifier\n",
        "base_clf = DummyClassifier(strategy=\"most_frequent\")\n",
        "base_clf.fit(X_train, y_train_0)"
      ],
      "metadata": {
        "colab": {
          "base_uri": "https://localhost:8080/"
        },
        "id": "ZsHePyb1HJNV",
        "outputId": "8c46c804-458b-4258-b11e-87c6143b0cf8"
      },
      "execution_count": 24,
      "outputs": [
        {
          "output_type": "execute_result",
          "data": {
            "text/plain": [
              "DummyClassifier(strategy='most_frequent')"
            ]
          },
          "metadata": {},
          "execution_count": 24
        }
      ]
    },
    {
      "cell_type": "code",
      "source": [
        "base_clf.score(X_train,y_train_0)\n",
        "base_clf.score(X_test, y_test_0)"
      ],
      "metadata": {
        "colab": {
          "base_uri": "https://localhost:8080/"
        },
        "id": "T2HM2QZAHiuW",
        "outputId": "ed48c6e0-3c4b-4e8f-9b24-fa7f2a5d376a"
      },
      "execution_count": 25,
      "outputs": [
        {
          "output_type": "execute_result",
          "data": {
            "text/plain": [
              "0.902"
            ]
          },
          "metadata": {},
          "execution_count": 25
        }
      ]
    },
    {
      "cell_type": "markdown",
      "source": [
        "**Using Perceptron** **Model**"
      ],
      "metadata": {
        "id": "mNcjUjf4IDpv"
      }
    },
    {
      "cell_type": "code",
      "source": [
        "bin_clf = Perceptron(max_iter = 100, random_state = 1729)\n",
        "bin_clf.fit(X_train, y_train_0)"
      ],
      "metadata": {
        "colab": {
          "base_uri": "https://localhost:8080/"
        },
        "id": "UgmEM6bPIJVH",
        "outputId": "a9090267-4b9b-4116-ece3-4b4551e3c393"
      },
      "execution_count": 79,
      "outputs": [
        {
          "output_type": "execute_result",
          "data": {
            "text/plain": [
              "Perceptron(max_iter=100, random_state=1729)"
            ]
          },
          "metadata": {},
          "execution_count": 79
        }
      ]
    },
    {
      "cell_type": "code",
      "source": [
        "print(\"Dimension of weights : \",bin_clf.coef_.shape)\n",
        "print(\"Bias : \", bin_clf.intercept_)\n",
        "print(\"Loss Function : \", bin_clf.loss_function_)"
      ],
      "metadata": {
        "colab": {
          "base_uri": "https://localhost:8080/"
        },
        "id": "ixOCBHjBI17M",
        "outputId": "ff31eda9-dbc8-46a7-969b-86bcc1093db8"
      },
      "execution_count": 80,
      "outputs": [
        {
          "output_type": "stream",
          "name": "stdout",
          "text": [
            "Dimension of weights :  (1, 784)\n",
            "Bias :  [-108.]\n",
            "Loss Function :  <sklearn.linear_model._sgd_fast.Hinge object at 0x7f0cf5e54870>\n"
          ]
        }
      ]
    },
    {
      "cell_type": "code",
      "source": [
        "print(\"Training Loss : \", bin_clf.score(X_train, y_train_0))\n",
        "print(\"Test Loss : \", bin_clf.score(X_test, y_test_0))"
      ],
      "metadata": {
        "colab": {
          "base_uri": "https://localhost:8080/"
        },
        "id": "yOcBgGEMJa-W",
        "outputId": "6a5797b1-b890-46ff-e0d2-640d192aa764"
      },
      "execution_count": 81,
      "outputs": [
        {
          "output_type": "stream",
          "name": "stdout",
          "text": [
            "Training Loss :  0.99095\n",
            "Test Loss :  0.989\n"
          ]
        }
      ]
    },
    {
      "cell_type": "markdown",
      "source": [
        "**Confusion Matrix**"
      ],
      "metadata": {
        "id": "-hw11-e5KYVY"
      }
    },
    {
      "cell_type": "code",
      "source": [
        "y_hat_train_0 = bin_clf.predict(X_train)\n",
        "cm_display = ConfusionMatrixDisplay.from_predictions(y_train_0,y_hat_train_0,values_format='.5g')\n",
        "plt.show()"
      ],
      "metadata": {
        "colab": {
          "base_uri": "https://localhost:8080/",
          "height": 279
        },
        "id": "yDbZPxCcKbgS",
        "outputId": "cb569480-170a-4107-daa3-e058b90f4c8b"
      },
      "execution_count": 82,
      "outputs": [
        {
          "output_type": "display_data",
          "data": {
            "text/plain": [
              "<Figure size 432x288 with 2 Axes>"
            ],
            "image/png": "[encoded data removed]"
          },
          "metadata": {
            "needs_background": "light"
          }
        }
      ]
    },
    {
      "cell_type": "code",
      "source": [
        "cf_matrix = cm_display.confusion_matrix\n",
        "tn = cf_matrix[0,0]\n",
        "fn = cf_matrix[1,0]\n",
        "fp = cf_matrix[0,1]\n",
        "tp = cf_matrix[1,1]"
      ],
      "metadata": {
        "id": "GMczzNmtK4g1"
      },
      "execution_count": 83,
      "outputs": []
    },
    {
      "cell_type": "code",
      "source": [
        "print(\"Precision : \", tp/(tp+fp))\n",
        "print(\"Recall : \", tp/(tp+fn))\n",
        "print(\"Accuracy : \", (tn+tp)/(tn+tp+fn+fp))"
      ],
      "metadata": {
        "colab": {
          "base_uri": "https://localhost:8080/"
        },
        "id": "xriz_U7jMDUu",
        "outputId": "3ab2cdb0-9e3c-4c4f-c597-481d9a18907f"
      },
      "execution_count": 84,
      "outputs": [
        {
          "output_type": "stream",
          "name": "stdout",
          "text": [
            "Precision :  0.9783072546230441\n",
            "Recall :  0.9289211548201924\n",
            "Accuracy :  0.99095\n"
          ]
        }
      ]
    },
    {
      "cell_type": "code",
      "source": [
        "precision_score(y_train_0,y_hat_train_0)"
      ],
      "metadata": {
        "colab": {
          "base_uri": "https://localhost:8080/"
        },
        "id": "UmRViDa4d2b3",
        "outputId": "c995303d-1cba-4009-e0a7-839f05e555b1"
      },
      "execution_count": 85,
      "outputs": [
        {
          "output_type": "execute_result",
          "data": {
            "text/plain": [
              "0.9783072546230441"
            ]
          },
          "metadata": {},
          "execution_count": 85
        }
      ]
    },
    {
      "cell_type": "code",
      "source": [
        "recall_score(y_train_0,y_hat_train_0)"
      ],
      "metadata": {
        "colab": {
          "base_uri": "https://localhost:8080/"
        },
        "id": "wSKXtyKmeC2U",
        "outputId": "168c8a0d-bf43-40af-c373-e6ca6d49c913"
      },
      "execution_count": 86,
      "outputs": [
        {
          "output_type": "execute_result",
          "data": {
            "text/plain": [
              "0.9289211548201924"
            ]
          },
          "metadata": {},
          "execution_count": 86
        }
      ]
    },
    {
      "cell_type": "code",
      "source": [
        "print(classification_report(y_train_0,y_hat_train_0))"
      ],
      "metadata": {
        "colab": {
          "base_uri": "https://localhost:8080/"
        },
        "id": "9VcgxjMNCNwc",
        "outputId": "b492b3fa-3627-4d18-f1ef-32fc1d23d8fb"
      },
      "execution_count": 87,
      "outputs": [
        {
          "output_type": "stream",
          "name": "stdout",
          "text": [
            "              precision    recall  f1-score   support\n",
            "\n",
            "        -1.0       0.99      1.00      0.99     54077\n",
            "         1.0       0.98      0.93      0.95      5923\n",
            "\n",
            "    accuracy                           0.99     60000\n",
            "   macro avg       0.99      0.96      0.97     60000\n",
            "weighted avg       0.99      0.99      0.99     60000\n",
            "\n"
          ]
        }
      ]
    },
    {
      "cell_type": "markdown",
      "source": [
        "**CV**"
      ],
      "metadata": {
        "id": "XJz2PtzufCGO"
      }
    },
    {
      "cell_type": "code",
      "source": [
        "bin_clf = Perceptron(max_iter=100, random_state=1729)\n",
        "scores = cross_validate(bin_clf, X_train, y_train_0,\n",
        "                        cv = 5,\n",
        "                        scoring = ['precision','recall','f1'],\n",
        "                        return_estimator=True)\n",
        "pprint(scores)"
      ],
      "metadata": {
        "colab": {
          "base_uri": "https://localhost:8080/"
        },
        "id": "ChCdO6eyfEag",
        "outputId": "89625224-fb22-425a-d0e8-0ec1f41c8da6"
      },
      "execution_count": 36,
      "outputs": [
        {
          "output_type": "stream",
          "name": "stdout",
          "text": [
            "{'estimator': [Perceptron(max_iter=100, random_state=1729),\n",
            "               Perceptron(max_iter=100, random_state=1729),\n",
            "               Perceptron(max_iter=100, random_state=1729),\n",
            "               Perceptron(max_iter=100, random_state=1729),\n",
            "               Perceptron(max_iter=100, random_state=1729)],\n",
            " 'fit_time': array([1.62862396, 2.43856668, 1.70687866, 1.52128959, 1.99057055]),\n",
            " 'score_time': array([0.04397798, 0.0427618 , 0.04072142, 0.04264784, 0.04524016]),\n",
            " 'test_f1': array([0.95238095, 0.91666667, 0.94915254, 0.94117647, 0.95091763]),\n",
            " 'test_precision': array([0.95890411, 0.98828125, 0.95319149, 0.95090439, 0.96200345]),\n",
            " 'test_recall': array([0.94594595, 0.85472973, 0.94514768, 0.93164557, 0.94008439])}\n"
          ]
        }
      ]
    },
    {
      "cell_type": "code",
      "source": [
        "scores['test_precision'].mean()"
      ],
      "metadata": {
        "colab": {
          "base_uri": "https://localhost:8080/"
        },
        "id": "fsh_vgIygKsd",
        "outputId": "ef74ce3e-d0c8-452e-c7d7-6e60d7281e36"
      },
      "execution_count": 37,
      "outputs": [
        {
          "output_type": "execute_result",
          "data": {
            "text/plain": [
              "0.9626569391894069"
            ]
          },
          "metadata": {},
          "execution_count": 37
        }
      ]
    },
    {
      "cell_type": "code",
      "source": [
        "scores['test_f1'].mean()"
      ],
      "metadata": {
        "colab": {
          "base_uri": "https://localhost:8080/"
        },
        "id": "Z_nUZ0HzgP65",
        "outputId": "f278f432-25d4-40ff-e69e-afab42f8770e"
      },
      "execution_count": 38,
      "outputs": [
        {
          "output_type": "execute_result",
          "data": {
            "text/plain": [
              "0.94205885179654"
            ]
          },
          "metadata": {},
          "execution_count": 38
        }
      ]
    },
    {
      "cell_type": "code",
      "source": [
        "scores['test_recall'].mean()"
      ],
      "metadata": {
        "colab": {
          "base_uri": "https://localhost:8080/"
        },
        "id": "UfNYoQZwgVB5",
        "outputId": "509d34ea-98f0-4ec6-9a91-4cfd88cb4c93"
      },
      "execution_count": 39,
      "outputs": [
        {
          "output_type": "execute_result",
          "data": {
            "text/plain": [
              "0.9235106625612953"
            ]
          },
          "metadata": {},
          "execution_count": 39
        }
      ]
    },
    {
      "cell_type": "code",
      "source": [
        "y_hat_train_00 = cross_val_predict(bin_clf,X_train, y_train_0, cv=5)"
      ],
      "metadata": {
        "id": "c50AbC8Ih1Rn"
      },
      "execution_count": 42,
      "outputs": []
    },
    {
      "cell_type": "code",
      "source": [
        "print(classification_report(y_train_0,y_hat_train_00))"
      ],
      "metadata": {
        "colab": {
          "base_uri": "https://localhost:8080/"
        },
        "id": "ez8uTmyXg8qL",
        "outputId": "357f0fa1-a8fe-4e61-98dc-8e976be27604"
      },
      "execution_count": 43,
      "outputs": [
        {
          "output_type": "stream",
          "name": "stdout",
          "text": [
            "              precision    recall  f1-score   support\n",
            "\n",
            "        -1.0       0.99      1.00      0.99     54077\n",
            "         1.0       0.96      0.92      0.94      5923\n",
            "\n",
            "    accuracy                           0.99     60000\n",
            "   macro avg       0.98      0.96      0.97     60000\n",
            "weighted avg       0.99      0.99      0.99     60000\n",
            "\n"
          ]
        }
      ]
    },
    {
      "cell_type": "markdown",
      "source": [
        "# Multiclass Classifier"
      ],
      "metadata": {
        "id": "RQBPo0pT6BpG"
      }
    },
    {
      "cell_type": "code",
      "source": [
        "from sklearn.preprocessing import LabelBinarizer\n",
        "y_train_all = LabelBinarizer().fit_transform(y_train)\n",
        "for i in range(10):\n",
        "  print('{0}:{1}'.format(y_train[i],y_train_all[i]))"
      ],
      "metadata": {
        "colab": {
          "base_uri": "https://localhost:8080/"
        },
        "id": "DTLZ__uL6GcT",
        "outputId": "163c4010-07fb-4637-979a-14487a8a6c08"
      },
      "execution_count": 45,
      "outputs": [
        {
          "output_type": "stream",
          "name": "stdout",
          "text": [
            "5:[0 0 0 0 0 1 0 0 0 0]\n",
            "0:[1 0 0 0 0 0 0 0 0 0]\n",
            "4:[0 0 0 0 1 0 0 0 0 0]\n",
            "1:[0 1 0 0 0 0 0 0 0 0]\n",
            "9:[0 0 0 0 0 0 0 0 0 1]\n",
            "2:[0 0 1 0 0 0 0 0 0 0]\n",
            "1:[0 1 0 0 0 0 0 0 0 0]\n",
            "3:[0 0 0 1 0 0 0 0 0 0]\n",
            "1:[0 1 0 0 0 0 0 0 0 0]\n",
            "4:[0 0 0 0 1 0 0 0 0 0]\n"
          ]
        }
      ]
    },
    {
      "cell_type": "code",
      "source": [
        "y_train_all.shape"
      ],
      "metadata": {
        "colab": {
          "base_uri": "https://localhost:8080/"
        },
        "id": "V7hkixVb6_Ji",
        "outputId": "4d65b5bf-6324-4dbb-a7cd-34bd585afe26"
      },
      "execution_count": 46,
      "outputs": [
        {
          "output_type": "execute_result",
          "data": {
            "text/plain": [
              "(60000, 10)"
            ]
          },
          "metadata": {},
          "execution_count": 46
        }
      ]
    },
    {
      "cell_type": "code",
      "source": [
        "clf = Perceptron(random_state=1729)"
      ],
      "metadata": {
        "id": "DL2C3fqm7Hk7"
      },
      "execution_count": 47,
      "outputs": []
    },
    {
      "cell_type": "code",
      "source": [
        "clf.fit(X_train,y_train)"
      ],
      "metadata": {
        "colab": {
          "base_uri": "https://localhost:8080/"
        },
        "id": "f0dAbGG57R4r",
        "outputId": "b0440e1e-e293-455d-9def-9e77fbdec513"
      },
      "execution_count": 49,
      "outputs": [
        {
          "output_type": "execute_result",
          "data": {
            "text/plain": [
              "Perceptron(random_state=1729)"
            ]
          },
          "metadata": {},
          "execution_count": 49
        }
      ]
    },
    {
      "cell_type": "code",
      "source": [
        "clf.coef_.shape"
      ],
      "metadata": {
        "colab": {
          "base_uri": "https://localhost:8080/"
        },
        "id": "0D42UTRP7pFt",
        "outputId": "ccb01bcb-9c15-4e70-c1b1-2ad0517b17e1"
      },
      "execution_count": 50,
      "outputs": [
        {
          "output_type": "execute_result",
          "data": {
            "text/plain": [
              "(10, 784)"
            ]
          },
          "metadata": {},
          "execution_count": 50
        }
      ]
    },
    {
      "cell_type": "code",
      "source": [
        "clf.intercept_.shape"
      ],
      "metadata": {
        "colab": {
          "base_uri": "https://localhost:8080/"
        },
        "id": "Lq5a5LTq7t8x",
        "outputId": "2e7eada1-f1ea-435c-ebfc-ebd09b2f2e4b"
      },
      "execution_count": 52,
      "outputs": [
        {
          "output_type": "execute_result",
          "data": {
            "text/plain": [
              "(10,)"
            ]
          },
          "metadata": {},
          "execution_count": 52
        }
      ]
    },
    {
      "cell_type": "code",
      "source": [
        "print(clf.predict(X_train[0].reshape(1,-1)))"
      ],
      "metadata": {
        "colab": {
          "base_uri": "https://localhost:8080/"
        },
        "id": "rkuC39Ec8FZb",
        "outputId": "ffae956a-8adf-4a0a-9288-381976dabbbc"
      },
      "execution_count": 55,
      "outputs": [
        {
          "output_type": "stream",
          "name": "stdout",
          "text": [
            "['5']\n"
          ]
        }
      ]
    },
    {
      "cell_type": "code",
      "source": [
        "y_hat = clf.predict(X_train)"
      ],
      "metadata": {
        "id": "l08fisfW8dzm"
      },
      "execution_count": 56,
      "outputs": []
    },
    {
      "cell_type": "code",
      "source": [
        "print(classification_report(y_train,y_hat))"
      ],
      "metadata": {
        "colab": {
          "base_uri": "https://localhost:8080/"
        },
        "id": "uHQrdkgB8iC8",
        "outputId": "71f63e1c-c32d-419e-d022-1215dfc127c3"
      },
      "execution_count": 57,
      "outputs": [
        {
          "output_type": "stream",
          "name": "stdout",
          "text": [
            "              precision    recall  f1-score   support\n",
            "\n",
            "           0       0.98      0.95      0.97      5923\n",
            "           1       0.94      0.98      0.96      6742\n",
            "           2       0.89      0.90      0.90      5958\n",
            "           3       0.86      0.87      0.87      6131\n",
            "           4       0.89      0.94      0.91      5842\n",
            "           5       0.81      0.88      0.85      5421\n",
            "           6       0.92      0.97      0.94      5918\n",
            "           7       0.91      0.94      0.92      6265\n",
            "           8       0.92      0.77      0.84      5851\n",
            "           9       0.92      0.82      0.87      5949\n",
            "\n",
            "    accuracy                           0.90     60000\n",
            "   macro avg       0.90      0.90      0.90     60000\n",
            "weighted avg       0.91      0.90      0.90     60000\n",
            "\n"
          ]
        }
      ]
    },
    {
      "cell_type": "code",
      "source": [
        "cm_displayy = ConfusionMatrixDisplay.from_predictions(y_train,y_hat,values_format='.5g')"
      ],
      "metadata": {
        "colab": {
          "base_uri": "https://localhost:8080/",
          "height": 279
        },
        "id": "KoSDFIZ_8udj",
        "outputId": "5ef75d22-4337-4a27-f36a-ddf517618db5"
      },
      "execution_count": 58,
      "outputs": [
        {
          "output_type": "display_data",
          "data": {
            "text/plain": [
              "<Figure size 432x288 with 2 Axes>"
            ],
            "image/png": "[encoded data removed]"
          },
          "metadata": {
            "needs_background": "light"
          }
        }
      ]
    },
    {
      "cell_type": "markdown",
      "source": [
        "**Lets use Pipelines to make code compact**\n",
        "\n",
        "*   Binary Classification\n",
        "\n"
      ],
      "metadata": {
        "id": "4lIZF_S59sHe"
      }
    },
    {
      "cell_type": "code",
      "source": [
        "estimators = [('std_scalar', MinMaxScaler()),('bin_clf', Perceptron())]\n",
        "pipe = Pipeline(estimators)"
      ],
      "metadata": {
        "id": "yxAU6sTs9Q7Y"
      },
      "execution_count": 59,
      "outputs": []
    },
    {
      "cell_type": "code",
      "source": [
        "pipe.fit(X_train,y_train_0)"
      ],
      "metadata": {
        "colab": {
          "base_uri": "https://localhost:8080/"
        },
        "id": "RrZXyAJc9ljx",
        "outputId": "d3ca01f7-d229-4183-8ca0-6d7154ad0bf5"
      },
      "execution_count": 60,
      "outputs": [
        {
          "output_type": "execute_result",
          "data": {
            "text/plain": [
              "Pipeline(steps=[('std_scalar', MinMaxScaler()), ('bin_clf', Perceptron())])"
            ]
          },
          "metadata": {},
          "execution_count": 60
        }
      ]
    },
    {
      "cell_type": "code",
      "source": [
        "y_hat_train_0 = pipe.predict(X_train)\n",
        "cm_dispaly_b = ConfusionMatrixDisplay.from_predictions(y_train_0,y_hat_train_0, values_format='.5g')"
      ],
      "metadata": {
        "colab": {
          "base_uri": "https://localhost:8080/",
          "height": 279
        },
        "id": "gqCQpbwb97Hl",
        "outputId": "e07badcf-c501-48cd-92e1-7857f8a802c2"
      },
      "execution_count": 62,
      "outputs": [
        {
          "output_type": "display_data",
          "data": {
            "text/plain": [
              "<Figure size 432x288 with 2 Axes>"
            ],
            "image/png": "[encoded data removed]"
          },
          "metadata": {
            "needs_background": "light"
          }
        }
      ]
    },
    {
      "cell_type": "markdown",
      "source": [
        "# GridSearchCV\n",
        "\n",
        "*   For Finding best eta0\n",
        "\n"
      ],
      "metadata": {
        "id": "rtaRBaCD-bWV"
      }
    },
    {
      "cell_type": "code",
      "source": [
        "scoring = make_scorer(hinge_loss,greater_is_better=False)\n",
        "lr_grid = [1/2**n for n in range(1,6)]\n",
        "bin_clf_gscv = GridSearchCV(Perceptron(), param_grid={\"eta0\":lr_grid}, scoring=scoring, cv=5)\n",
        "bin_clf_gscv.fit(X_train, y_train_0)"
      ],
      "metadata": {
        "colab": {
          "base_uri": "https://localhost:8080/"
        },
        "id": "vWIxDgj6-X7k",
        "outputId": "e43ba6da-16fe-46b7-c8c0-8f539ca86490"
      },
      "execution_count": 67,
      "outputs": [
        {
          "output_type": "execute_result",
          "data": {
            "text/plain": [
              "GridSearchCV(cv=5, estimator=Perceptron(),\n",
              "             param_grid={'eta0': [0.5, 0.25, 0.125, 0.0625, 0.03125]},\n",
              "             scoring=make_scorer(hinge_loss, greater_is_better=False))"
            ]
          },
          "metadata": {},
          "execution_count": 67
        }
      ]
    },
    {
      "cell_type": "code",
      "source": [
        "pprint(bin_clf_gscv.cv_results_)"
      ],
      "metadata": {
        "colab": {
          "base_uri": "https://localhost:8080/"
        },
        "id": "Ju8NJhPhAXMb",
        "outputId": "3ec137c2-c38d-4ee5-b8f4-835f5deefdf9"
      },
      "execution_count": 68,
      "outputs": [
        {
          "output_type": "stream",
          "name": "stdout",
          "text": [
            "{'mean_fit_time': array([1.61408668, 1.67707005, 1.46066394, 1.22807117, 1.10194893]),\n",
            " 'mean_score_time': array([0.02047768, 0.0212409 , 0.02068057, 0.02018681, 0.02029734]),\n",
            " 'mean_test_score': array([-0.0285    , -0.0285    , -0.02643333, -0.03066667, -0.0421    ]),\n",
            " 'param_eta0': masked_array(data=[0.5, 0.25, 0.125, 0.0625, 0.03125],\n",
            "             mask=[False, False, False, False, False],\n",
            "       fill_value='?',\n",
            "            dtype=object),\n",
            " 'params': [{'eta0': 0.5},\n",
            "            {'eta0': 0.25},\n",
            "            {'eta0': 0.125},\n",
            "            {'eta0': 0.0625},\n",
            "            {'eta0': 0.03125}],\n",
            " 'rank_test_score': array([2, 2, 1, 4, 5], dtype=int32),\n",
            " 'split0_test_score': array([-0.02166667, -0.02166667, -0.02166667, -0.02166667, -0.02166667]),\n",
            " 'split1_test_score': array([-0.0395, -0.0395, -0.0395, -0.0395, -0.0395]),\n",
            " 'split2_test_score': array([-0.02816667, -0.02816667, -0.02816667, -0.02816667, -0.02816667]),\n",
            " 'split3_test_score': array([-0.023     , -0.023     , -0.023     , -0.04416667, -0.04416667]),\n",
            " 'split4_test_score': array([-0.03016667, -0.03016667, -0.01983333, -0.01983333, -0.077     ]),\n",
            " 'std_fit_time': array([0.35580655, 0.32254075, 0.36768436, 0.15311666, 0.12453372]),\n",
            " 'std_score_time': array([0.00068785, 0.00220797, 0.00125132, 0.00043828, 0.00079801]),\n",
            " 'std_test_score': array([0.00633772, 0.00633772, 0.00709663, 0.0096425 , 0.01918697])}\n"
          ]
        }
      ]
    },
    {
      "cell_type": "code",
      "source": [
        "bin_clf_best = bin_clf_gscv.best_estimator_"
      ],
      "metadata": {
        "id": "XMXweWTGBJ-8"
      },
      "execution_count": 73,
      "outputs": []
    },
    {
      "cell_type": "code",
      "source": [
        "y_hat_tarin_0_best = bin_clf_best.predict(X_train)\n",
        "print(classification_report(y_train_0,y_hat_tarin_0_best))"
      ],
      "metadata": {
        "colab": {
          "base_uri": "https://localhost:8080/"
        },
        "id": "fDi40ThWBRwH",
        "outputId": "d4864c10-6723-444f-fb02-254160dfc826"
      },
      "execution_count": 74,
      "outputs": [
        {
          "output_type": "stream",
          "name": "stdout",
          "text": [
            "              precision    recall  f1-score   support\n",
            "\n",
            "        -1.0       0.99      0.99      0.99     54077\n",
            "         1.0       0.95      0.95      0.95      5923\n",
            "\n",
            "    accuracy                           0.99     60000\n",
            "   macro avg       0.97      0.97      0.97     60000\n",
            "weighted avg       0.99      0.99      0.99     60000\n",
            "\n"
          ]
        }
      ]
    }
  ]
}
