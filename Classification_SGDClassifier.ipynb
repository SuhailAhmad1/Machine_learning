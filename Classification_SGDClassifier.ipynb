{
  "nbformat": 4,
  "nbformat_minor": 0,
  "metadata": {
    "colab": {
      "name": "Classification_SGDClassifier.ipynb",
      "provenance": [],
      "collapsed_sections": [],
      "authorship_tag": "ABX9TyNvOM25lkvZKkd+bel691CR",
      "include_colab_link": true
    },
    "kernelspec": {
      "name": "python3",
      "display_name": "Python 3"
    },
    "language_info": {
      "name": "python"
    }
  },
  "cells": [
    {
      "cell_type": "markdown",
      "metadata": {
        "id": "view-in-github",
        "colab_type": "text"
      },
      "source": [
        "<a href=\"https://colab.research.google.com/github/SuhailAhmad1/Machine_learning/blob/main/Classification_SGDClassifier.ipynb\" target=\"_parent\"><img src=\"https://colab.research.google.com/assets/colab-badge.svg\" alt=\"Open In Colab\"/></a>"
      ]
    },
    {
      "cell_type": "markdown",
      "source": [
        "# **Importing Important Libraries**"
      ],
      "metadata": {
        "id": "DnXMe4yngo0d"
      }
    },
    {
      "cell_type": "code",
      "execution_count": 1,
      "metadata": {
        "id": "OgY73N-wfzCl"
      },
      "outputs": [],
      "source": [
        "import numpy as np\n",
        "from pprint import pprint\n",
        "import pandas as pd\n",
        "%matplotlib inline\n",
        "import matplotlib.pyplot as plt\n",
        "import seaborn as sns"
      ]
    },
    {
      "cell_type": "code",
      "source": [
        "from sklearn.datasets import fetch_openml\n",
        "from sklearn.preprocessing import MinMaxScaler, StandardScaler, LabelBinarizer\n",
        "from sklearn.linear_model import LogisticRegression, SGDClassifier, RidgeClassifier\n",
        "from sklearn.pipeline import make_pipeline\n",
        "from sklearn.dummy import DummyClassifier\n",
        "from sklearn.model_selection import cross_validate, cross_val_predict, RandomizedSearchCV, train_test_split\n",
        "from sklearn.metrics import log_loss, ConfusionMatrixDisplay, precision_score, recall_score, classification_report\n",
        "from sklearn.metrics import precision_recall_curve, roc_curve, roc_auc_score"
      ],
      "metadata": {
        "id": "8mw0PfOignVV"
      },
      "execution_count": 2,
      "outputs": []
    },
    {
      "cell_type": "markdown",
      "source": [
        "# **SGDClassifier \"loss = log\" for BinaryClassification | 0 detector**"
      ],
      "metadata": {
        "id": "YWvMIo__oJgy"
      }
    },
    {
      "cell_type": "code",
      "source": [
        "X_pd,y_pd = fetch_openml('mnist_784', version=1, return_X_y=True)\n",
        "X = X_pd.to_numpy()\n",
        "y = y_pd.to_numpy()"
      ],
      "metadata": {
        "id": "v-NfutE9oVl4"
      },
      "execution_count": 3,
      "outputs": []
    },
    {
      "cell_type": "markdown",
      "source": [
        "**Preprocessing**"
      ],
      "metadata": {
        "id": "34JZGdSb266h"
      }
    },
    {
      "cell_type": "code",
      "source": [
        "X = MinMaxScaler().fit_transform(X)"
      ],
      "metadata": {
        "id": "z8gNvEHb1qNg"
      },
      "execution_count": 4,
      "outputs": []
    },
    {
      "cell_type": "code",
      "source": [
        "X.shape"
      ],
      "metadata": {
        "colab": {
          "base_uri": "https://localhost:8080/"
        },
        "id": "R2mNAu9p2e0c",
        "outputId": "322d5786-1c34-4362-9b73-a78510dac78d"
      },
      "execution_count": 5,
      "outputs": [
        {
          "output_type": "execute_result",
          "data": {
            "text/plain": [
              "(70000, 784)"
            ]
          },
          "metadata": {},
          "execution_count": 5
        }
      ]
    },
    {
      "cell_type": "code",
      "source": [
        "np.unique(y)"
      ],
      "metadata": {
        "colab": {
          "base_uri": "https://localhost:8080/"
        },
        "id": "aSRMl7pY2g-d",
        "outputId": "746b79d2-caf8-4b8c-8659-8c04c74787ad"
      },
      "execution_count": 6,
      "outputs": [
        {
          "output_type": "execute_result",
          "data": {
            "text/plain": [
              "array(['0', '1', '2', '3', '4', '5', '6', '7', '8', '9'], dtype=object)"
            ]
          },
          "metadata": {},
          "execution_count": 6
        }
      ]
    },
    {
      "cell_type": "markdown",
      "source": [
        "**Splitting data**"
      ],
      "metadata": {
        "id": "Hhr-k7RJ2_P0"
      }
    },
    {
      "cell_type": "code",
      "source": [
        "X_train, X_test, y_train, y_test = X[:60000], X[60000:], y[:60000], y[60000:]"
      ],
      "metadata": {
        "id": "bQ-nb8yQ2-Hm"
      },
      "execution_count": 7,
      "outputs": []
    },
    {
      "cell_type": "markdown",
      "source": [
        "**Changing labels to 2 classes , 1 for zero and 0 for others**"
      ],
      "metadata": {
        "id": "hJn-I_Yd3vtO"
      }
    },
    {
      "cell_type": "code",
      "source": [
        "y_train_0 = np.zeros(len(y_train))\n",
        "y_test_0 = np.zeros(len(y_test))\n",
        "\n",
        "index_0 = np.where(y_train == '0')\n",
        "y_train_0[index_0] = 1\n",
        "\n",
        "index_0 = np.where(y_test == '0')\n",
        "y_test_0[index_0] = 1"
      ],
      "metadata": {
        "id": "eiFAXq012wrc"
      },
      "execution_count": 8,
      "outputs": []
    },
    {
      "cell_type": "code",
      "source": [
        "y_train[:10]"
      ],
      "metadata": {
        "colab": {
          "base_uri": "https://localhost:8080/"
        },
        "id": "cuvKPbVE4Tho",
        "outputId": "aa9e51c0-cfeb-4915-afa1-f7caf51c8f24"
      },
      "execution_count": 9,
      "outputs": [
        {
          "output_type": "execute_result",
          "data": {
            "text/plain": [
              "array(['5', '0', '4', '1', '9', '2', '1', '3', '1', '4'], dtype=object)"
            ]
          },
          "metadata": {},
          "execution_count": 9
        }
      ]
    },
    {
      "cell_type": "code",
      "source": [
        "y_train_0[:10]"
      ],
      "metadata": {
        "colab": {
          "base_uri": "https://localhost:8080/"
        },
        "id": "OxyiAdtG4Yb1",
        "outputId": "ef79395b-80f7-441d-cc1b-b20f05f99139"
      },
      "execution_count": 10,
      "outputs": [
        {
          "output_type": "execute_result",
          "data": {
            "text/plain": [
              "array([0., 1., 0., 0., 0., 0., 0., 0., 0., 0.])"
            ]
          },
          "metadata": {},
          "execution_count": 10
        }
      ]
    },
    {
      "cell_type": "markdown",
      "source": [
        "**Using Baseline Model | Dummy Classifier**"
      ],
      "metadata": {
        "id": "HKkfwsto5dLh"
      }
    },
    {
      "cell_type": "code",
      "source": [
        "d_cls = DummyClassifier(strategy='most_frequent')\n",
        "d_cls.fit(X_train, y_train_0)"
      ],
      "metadata": {
        "colab": {
          "base_uri": "https://localhost:8080/"
        },
        "id": "ZQTc5VwL5jmG",
        "outputId": "a7b2b4d7-5a29-4d08-d2fb-39303688cc5c"
      },
      "execution_count": 11,
      "outputs": [
        {
          "output_type": "execute_result",
          "data": {
            "text/plain": [
              "DummyClassifier(strategy='most_frequent')"
            ]
          },
          "metadata": {},
          "execution_count": 11
        }
      ]
    },
    {
      "cell_type": "code",
      "source": [
        "d_cls.score(X_train, y_train_0)"
      ],
      "metadata": {
        "colab": {
          "base_uri": "https://localhost:8080/"
        },
        "id": "7N3GmZek5wVE",
        "outputId": "4d54e270-9e5a-43f4-cdbc-34d56d387ca1"
      },
      "execution_count": 12,
      "outputs": [
        {
          "output_type": "execute_result",
          "data": {
            "text/plain": [
              "0.9012833333333333"
            ]
          },
          "metadata": {},
          "execution_count": 12
        }
      ]
    },
    {
      "cell_type": "markdown",
      "source": [
        "**Using Logistic Regression**\n",
        "\n"
      ],
      "metadata": {
        "id": "9Jnw5KDd5-Fq"
      }
    },
    {
      "cell_type": "code",
      "source": [
        "bin_sgd_clf = SGDClassifier(loss=\"log\", \n",
        "                            penalty=\"l2\", \n",
        "                            alpha=0,\n",
        "                            max_iter=1, \n",
        "                            eta0=0.01, \n",
        "                            learning_rate=\"constant\",\n",
        "                            warm_start=True,\n",
        "                            random_state = 1729)\n",
        "loss = []\n",
        "for i in range(100):\n",
        "  bin_sgd_clf.fit(X_train,y_train_0)\n",
        "  y_pred = bin_sgd_clf.predict_proba(X_train)\n",
        "  loss.append(log_loss(y_train_0,y_pred))\n",
        "  "
      ],
      "metadata": {
        "id": "6HhNDWhU6BiP"
      },
      "execution_count": null,
      "outputs": []
    },
    {
      "cell_type": "markdown",
      "source": [
        "**Visualizing Loss**"
      ],
      "metadata": {
        "id": "IZWn9xYQNSf6"
      }
    },
    {
      "cell_type": "code",
      "source": [
        "plt.figure()\n",
        "plt.plot(np.arange(100), loss)\n",
        "plt.grid(True)\n",
        "plt.xlabel(\"Iterations\")\n",
        "plt.ylabel(\"Loss\")\n",
        "plt.show()"
      ],
      "metadata": {
        "colab": {
          "base_uri": "https://localhost:8080/",
          "height": 286
        },
        "id": "WbbSU49DNV9i",
        "outputId": "c450278f-6083-4b23-fac4-15c0ae754045"
      },
      "execution_count": null,
      "outputs": [
        {
          "output_type": "display_data",
          "data": {
            "text/plain": [
              "<Figure size 432x288 with 1 Axes>"
            ],
            "image/png": "[encoded data removed]"
          },
          "metadata": {
            "needs_background": "light"
          }
        }
      ]
    },
    {
      "cell_type": "code",
      "source": [
        "print(\"Training Accuracy : \", bin_sgd_clf.score(X_train, y_train_0))\n",
        "print(\"Test Accuracy : \", bin_sgd_clf.score(X_test,y_test_0))"
      ],
      "metadata": {
        "colab": {
          "base_uri": "https://localhost:8080/"
        },
        "id": "Sr44A_b273t2",
        "outputId": "1a782b76-0603-4291-a3ce-6a04bfd6a0d1"
      },
      "execution_count": null,
      "outputs": [
        {
          "output_type": "stream",
          "name": "stdout",
          "text": [
            "Training Accuracy :  0.99395\n",
            "Test Accuracy :  0.9919\n"
          ]
        }
      ]
    },
    {
      "cell_type": "code",
      "source": [
        "cm_display = ConfusionMatrixDisplay.from_estimator(bin_sgd_clf, X_train, y_train_0, values_format=\".5g\")"
      ],
      "metadata": {
        "colab": {
          "base_uri": "https://localhost:8080/",
          "height": 286
        },
        "id": "vk-Ppgac-Hrv",
        "outputId": "15827118-cd18-44f0-f3e2-9e47d8bcef17"
      },
      "execution_count": null,
      "outputs": [
        {
          "output_type": "display_data",
          "data": {
            "text/plain": [
              "<Figure size 432x288 with 2 Axes>"
            ],
            "image/png": "[encoded data removed]"
          },
          "metadata": {
            "needs_background": "light"
          }
        }
      ]
    },
    {
      "cell_type": "code",
      "source": [
        "cm_display.confusion_matrix"
      ],
      "metadata": {
        "colab": {
          "base_uri": "https://localhost:8080/"
        },
        "id": "lp49wf82-0HP",
        "outputId": "bb87a14a-4a59-4e0a-c0d9-20cd2fbd499d"
      },
      "execution_count": null,
      "outputs": [
        {
          "output_type": "execute_result",
          "data": {
            "text/plain": [
              "array([[53946,   131],\n",
              "       [  232,  5691]])"
            ]
          },
          "metadata": {},
          "execution_count": 108
        }
      ]
    },
    {
      "cell_type": "code",
      "source": [
        "print(classification_report(y_train_0, bin_sgd_clf.predict(X_train)))"
      ],
      "metadata": {
        "colab": {
          "base_uri": "https://localhost:8080/"
        },
        "id": "MSrjkONiIFxq",
        "outputId": "2dc7750e-29eb-4743-a724-ccc3abc0222c"
      },
      "execution_count": null,
      "outputs": [
        {
          "output_type": "stream",
          "name": "stdout",
          "text": [
            "              precision    recall  f1-score   support\n",
            "\n",
            "         0.0       1.00      1.00      1.00     54077\n",
            "         1.0       0.98      0.96      0.97      5923\n",
            "\n",
            "    accuracy                           0.99     60000\n",
            "   macro avg       0.99      0.98      0.98     60000\n",
            "weighted avg       0.99      0.99      0.99     60000\n",
            "\n"
          ]
        }
      ]
    },
    {
      "cell_type": "markdown",
      "source": [
        "Cross Checking for Generalization using CrossValidation"
      ],
      "metadata": {
        "id": "WNcCcXgEI3Ec"
      }
    },
    {
      "cell_type": "code",
      "source": [
        "estimator = SGDClassifier(loss=\"log\",\n",
        "                          penalty=\"l2\",\n",
        "                          max_iter=100,\n",
        "                          warm_start=True,\n",
        "                          eta0=0.01,\n",
        "                          alpha=0,\n",
        "                          learning_rate='constant',\n",
        "                          random_state=1729)\n"
      ],
      "metadata": {
        "id": "fy-N1gCVJExG"
      },
      "execution_count": null,
      "outputs": []
    },
    {
      "cell_type": "code",
      "source": [
        "cv_bin_clf = cross_validate(estimator, X_train, y_train_0, cv=5,\n",
        "                            scoring=['precision', 'recall', 'f1'],\n",
        "                            return_estimator=True,\n",
        "                            return_train_score=True)\n",
        "pprint(cv_bin_clf)"
      ],
      "metadata": {
        "colab": {
          "base_uri": "https://localhost:8080/"
        },
        "id": "z0Wke4iYJlGi",
        "outputId": "c4e29801-dda7-4a19-b4fb-a1543b54d2da"
      },
      "execution_count": null,
      "outputs": [
        {
          "output_type": "stream",
          "name": "stdout",
          "text": [
            "{'estimator': [SGDClassifier(alpha=0, eta0=0.01, learning_rate='constant', loss='log',\n",
            "              max_iter=100, random_state=1729, warm_start=True),\n",
            "               SGDClassifier(alpha=0, eta0=0.01, learning_rate='constant', loss='log',\n",
            "              max_iter=100, random_state=1729, warm_start=True),\n",
            "               SGDClassifier(alpha=0, eta0=0.01, learning_rate='constant', loss='log',\n",
            "              max_iter=100, random_state=1729, warm_start=True),\n",
            "               SGDClassifier(alpha=0, eta0=0.01, learning_rate='constant', loss='log',\n",
            "              max_iter=100, random_state=1729, warm_start=True),\n",
            "               SGDClassifier(alpha=0, eta0=0.01, learning_rate='constant', loss='log',\n",
            "              max_iter=100, random_state=1729, warm_start=True)],\n",
            " 'fit_time': array([1.44521356, 1.41858101, 1.40237188, 1.54896832, 1.29621434]),\n",
            " 'score_time': array([0.04174471, 0.05250907, 0.04041624, 0.04020309, 0.04077125]),\n",
            " 'test_f1': array([0.95699831, 0.954371  , 0.9616041 , 0.95870583, 0.95993252]),\n",
            " 'test_precision': array([0.95538721, 0.96382429, 0.97238999, 0.96735395, 0.95952782]),\n",
            " 'test_recall': array([0.95861486, 0.94510135, 0.95105485, 0.95021097, 0.96033755]),\n",
            " 'train_f1': array([0.96495899, 0.96565657, 0.96453452, 0.96373944, 0.96302557]),\n",
            " 'train_precision': array([0.97419355, 0.97321046, 0.96473818, 0.97701149, 0.96404399]),\n",
            " 'train_recall': array([0.95589787, 0.95821903, 0.96433094, 0.95082313, 0.96200929])}\n"
          ]
        }
      ]
    },
    {
      "cell_type": "code",
      "source": [
        "plt.imshow(X_test[10,:].reshape(28,28),cmap='gray')\n",
        "plt.title(bin_sgd_clf.predict(X_test[10].reshape(1,-1)))\n",
        "plt.show()"
      ],
      "metadata": {
        "colab": {
          "base_uri": "https://localhost:8080/",
          "height": 339
        },
        "id": "FVi0bCzYLdpA",
        "outputId": "2ef99e2a-b575-4441-e806-24806e557f9e"
      },
      "execution_count": null,
      "outputs": [
        {
          "output_type": "stream",
          "name": "stderr",
          "text": [
            "/usr/local/lib/python3.7/dist-packages/matplotlib/text.py:1165: FutureWarning: elementwise comparison failed; returning scalar instead, but in the future will perform elementwise comparison\n",
            "  if s != self._text:\n"
          ]
        },
        {
          "output_type": "display_data",
          "data": {
            "text/plain": [
              "<Figure size 432x288 with 1 Axes>"
            ],
            "image/png": "[encoded data removed]"
          },
          "metadata": {
            "needs_background": "light"
          }
        }
      ]
    },
    {
      "cell_type": "markdown",
      "source": [
        "**PR Curve**"
      ],
      "metadata": {
        "id": "QqRV8I0mQTPv"
      }
    },
    {
      "cell_type": "code",
      "source": [
        "y_scores = bin_sgd_clf.decision_function(X_train)\n",
        "precisons, recalls, threshholds = precision_recall_curve(y_train_0, y_scores)\n",
        "plt.figure(figsize=(10,5))\n",
        "plt.plot(threshholds, precisons[:-1], label=\"Precision\")\n",
        "plt.plot(threshholds, recalls[:-1], label=\"Recall\")\n",
        "plt.xlabel(\"Threshold\")\n",
        "plt.legend(loc=\"upper right\")\n",
        "plt.show()"
      ],
      "metadata": {
        "colab": {
          "base_uri": "https://localhost:8080/",
          "height": 341
        },
        "id": "ukifMKPtQSCN",
        "outputId": "376057ed-3062-42a6-ecd5-e714bbbf514f"
      },
      "execution_count": null,
      "outputs": [
        {
          "output_type": "display_data",
          "data": {
            "text/plain": [
              "<Figure size 720x360 with 1 Axes>"
            ],
            "image/png": "[encoded data removed]"
          },
          "metadata": {
            "needs_background": "light"
          }
        }
      ]
    },
    {
      "cell_type": "markdown",
      "source": [
        "# **SGDClassifier For MultiClass**"
      ],
      "metadata": {
        "id": "HgEsNhFYIZo2"
      }
    },
    {
      "cell_type": "code",
      "source": [
        "estimator = SGDClassifier(loss='log',\n",
        "                          penalty='l2',\n",
        "                          max_iter=100,\n",
        "                          warm_start=True,\n",
        "                          eta0=0.01,\n",
        "                          alpha=0,\n",
        "                          learning_rate='constant',\n",
        "                          random_state=1729)\n",
        "pipe_sgd_mc = make_pipeline(MinMaxScaler(), estimator)"
      ],
      "metadata": {
        "id": "0DHh9rKKIzUB"
      },
      "execution_count": 14,
      "outputs": []
    },
    {
      "cell_type": "code",
      "source": [
        "pipe_sgd_mc.fit(X_train,y_train)"
      ],
      "metadata": {
        "colab": {
          "base_uri": "https://localhost:8080/"
        },
        "id": "Wtv2iL51J4B2",
        "outputId": "88aced75-7948-4a8e-9a59-4c06986fd83e"
      },
      "execution_count": 18,
      "outputs": [
        {
          "output_type": "execute_result",
          "data": {
            "text/plain": [
              "Pipeline(steps=[('minmaxscaler', MinMaxScaler()),\n",
              "                ('sgdclassifier',\n",
              "                 SGDClassifier(alpha=0, eta0=0.01, learning_rate='constant',\n",
              "                               loss='log', max_iter=100, random_state=1729,\n",
              "                               warm_start=True))])"
            ]
          },
          "metadata": {},
          "execution_count": 18
        }
      ]
    },
    {
      "cell_type": "code",
      "source": [
        "pipe_sgd_mc[1].coef_.shape"
      ],
      "metadata": {
        "colab": {
          "base_uri": "https://localhost:8080/"
        },
        "id": "79AF3SQNKSLh",
        "outputId": "d9bc538a-6531-4090-a62a-967f3899ac02"
      },
      "execution_count": 20,
      "outputs": [
        {
          "output_type": "execute_result",
          "data": {
            "text/plain": [
              "(10, 784)"
            ]
          },
          "metadata": {},
          "execution_count": 20
        }
      ]
    },
    {
      "cell_type": "code",
      "source": [
        "y_hat = pipe_sgd_mc.predict(X_test)\n",
        "print(y_test[:15])\n",
        "print(y_hat[:15])"
      ],
      "metadata": {
        "colab": {
          "base_uri": "https://localhost:8080/"
        },
        "id": "bBYrB81IKY0p",
        "outputId": "6979e696-da39-437d-e748-882be7388f1f"
      },
      "execution_count": 22,
      "outputs": [
        {
          "output_type": "stream",
          "name": "stdout",
          "text": [
            "['7' '2' '1' '0' '4' '1' '4' '9' '5' '9' '0' '6' '9' '0' '1']\n",
            "['7' '2' '1' '0' '4' '1' '4' '9' '6' '9' '0' '6' '9' '0' '1']\n"
          ]
        }
      ]
    },
    {
      "cell_type": "code",
      "source": [
        "cm = ConfusionMatrixDisplay.from_predictions(y_test, y_hat)"
      ],
      "metadata": {
        "colab": {
          "base_uri": "https://localhost:8080/",
          "height": 279
        },
        "id": "bJhmungDKvzo",
        "outputId": "c86e3d03-4f2b-4cdd-9e4c-6efbead58ecf"
      },
      "execution_count": 23,
      "outputs": [
        {
          "output_type": "display_data",
          "data": {
            "text/plain": [
              "<Figure size 432x288 with 2 Axes>"
            ],
            "image/png": "[encoded data removed]"
          },
          "metadata": {
            "needs_background": "light"
          }
        }
      ]
    },
    {
      "cell_type": "code",
      "source": [
        "print(classification_report(y_test, y_hat))"
      ],
      "metadata": {
        "colab": {
          "base_uri": "https://localhost:8080/"
        },
        "id": "jdcPCmOqK8dB",
        "outputId": "b02bd9d8-b517-4ea0-f269-3e98088a8f3d"
      },
      "execution_count": 24,
      "outputs": [
        {
          "output_type": "stream",
          "name": "stdout",
          "text": [
            "              precision    recall  f1-score   support\n",
            "\n",
            "           0       0.93      0.99      0.96       980\n",
            "           1       0.96      0.97      0.97      1135\n",
            "           2       0.93      0.90      0.91      1032\n",
            "           3       0.93      0.89      0.91      1010\n",
            "           4       0.90      0.94      0.92       982\n",
            "           5       0.87      0.88      0.88       892\n",
            "           6       0.92      0.95      0.94       958\n",
            "           7       0.93      0.92      0.92      1028\n",
            "           8       0.87      0.86      0.87       974\n",
            "           9       0.93      0.86      0.89      1009\n",
            "\n",
            "    accuracy                           0.92     10000\n",
            "   macro avg       0.92      0.92      0.92     10000\n",
            "weighted avg       0.92      0.92      0.92     10000\n",
            "\n"
          ]
        }
      ]
    }
  ]
}